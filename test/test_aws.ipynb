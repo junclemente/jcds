{
 "cells": [
  {
   "cell_type": "code",
   "execution_count": 3,
   "metadata": {},
   "outputs": [],
   "source": [
    "import sys\n",
    "import os\n",
    "import importlib\n",
    "\n",
    "# Add parent directory to sys path\n",
    "sys.path.append(os.path.abspath(os.path.join(os.getcwd(), os.pardir)))"
   ]
  },
  {
   "cell_type": "code",
   "execution_count": 4,
   "metadata": {},
   "outputs": [],
   "source": [
    "import jcds.aws as jaws"
   ]
  },
  {
   "cell_type": "code",
   "execution_count": 6,
   "metadata": {},
   "outputs": [
    {
     "name": "stdout",
     "output_type": "stream",
     "text": [
      "Available functions in jcds.aws:\n",
      "  - list_s3_contents\n",
      "  - s3_file_to_dataframe\n",
      "\n",
      "Use help(\"function_name\") to see the docstring for a specific function.\n"
     ]
    }
   ],
   "source": [
    "jaws.help()"
   ]
  },
  {
   "cell_type": "code",
   "execution_count": 8,
   "metadata": {},
   "outputs": [
    {
     "name": "stdout",
     "output_type": "stream",
     "text": [
      "\n",
      "Help for 'list_s3_contents':\n",
      "\n",
      "\n",
      "    Lists the contents (object keys) of a public Amazon S3 bucket using anonymous access.\n",
      "\n",
      "    Args:\n",
      "        bucket_name (str): The name of the public S3 bucket to list contents from.\n",
      "\n",
      "    Returns:\n",
      "        None. Prints the keys (filenames) of the objects found in the bucket.\n",
      "\n",
      "    Notes:\n",
      "        - This function uses anonymous (unsigned) access and works only with public buckets.\n",
      "        - Requires the `boto3` and `botocore` libraries.\n",
      "        - If the bucket is not public or an error occurs, an error message is printed.\n",
      "    \n"
     ]
    }
   ],
   "source": [
    "jaws.help(\"list_s3_contents\")"
   ]
  },
  {
   "cell_type": "code",
   "execution_count": null,
   "metadata": {},
   "outputs": [],
   "source": []
  }
 ],
 "metadata": {
  "kernelspec": {
   "display_name": "ads508",
   "language": "python",
   "name": "python3"
  },
  "language_info": {
   "codemirror_mode": {
    "name": "ipython",
    "version": 3
   },
   "file_extension": ".py",
   "mimetype": "text/x-python",
   "name": "python",
   "nbconvert_exporter": "python",
   "pygments_lexer": "ipython3",
   "version": "3.10.16"
  }
 },
 "nbformat": 4,
 "nbformat_minor": 2
}
