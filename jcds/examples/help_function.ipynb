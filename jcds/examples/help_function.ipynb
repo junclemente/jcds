{
  "cells": [
    {
      "cell_type": "code",
      "execution_count": 1,
      "id": "a58f7a34",
      "metadata": {},
      "outputs": [],
      "source": [
        "import pandas as pd\n",
        "import seaborn as sns\n",
        "\n",
        "# import library\n",
        "from jcds import eda as jeda"
      ]
    },
    {
      "cell_type": "code",
      "execution_count": 2,
      "id": "78ac519f",
      "metadata": {},
      "outputs": [
        {
          "data": {
            "application/vnd.microsoft.datawrangler.viewer.v0+json": {
              "columns": [
                {
                  "name": "index",
                  "rawType": "int64",
                  "type": "integer"
                },
                {
                  "name": "survived",
                  "rawType": "int64",
                  "type": "integer"
                },
                {
                  "name": "pclass",
                  "rawType": "int64",
                  "type": "integer"
                },
                {
                  "name": "sex",
                  "rawType": "object",
                  "type": "string"
                },
                {
                  "name": "age",
                  "rawType": "float64",
                  "type": "float"
                },
                {
                  "name": "sibsp",
                  "rawType": "int64",
                  "type": "integer"
                },
                {
                  "name": "parch",
                  "rawType": "int64",
                  "type": "integer"
                },
                {
                  "name": "fare",
                  "rawType": "float64",
                  "type": "float"
                },
                {
                  "name": "embarked",
                  "rawType": "object",
                  "type": "string"
                },
                {
                  "name": "class",
                  "rawType": "category",
                  "type": "unknown"
                },
                {
                  "name": "who",
                  "rawType": "object",
                  "type": "string"
                },
                {
                  "name": "adult_male",
                  "rawType": "bool",
                  "type": "boolean"
                },
                {
                  "name": "deck",
                  "rawType": "category",
                  "type": "unknown"
                },
                {
                  "name": "embark_town",
                  "rawType": "object",
                  "type": "string"
                },
                {
                  "name": "alive",
                  "rawType": "object",
                  "type": "string"
                },
                {
                  "name": "alone",
                  "rawType": "bool",
                  "type": "boolean"
                }
              ],
              "conversionMethod": "pd.DataFrame",
              "ref": "807bfaa0-8571-4d9d-905e-89e60612905c",
              "rows": [
                [
                  "0",
                  "0",
                  "3",
                  "male",
                  "22.0",
                  "1",
                  "0",
                  "7.25",
                  "S",
                  "Third",
                  "man",
                  "True",
                  null,
                  "Southampton",
                  "no",
                  "False"
                ],
                [
                  "1",
                  "1",
                  "1",
                  "female",
                  "38.0",
                  "1",
                  "0",
                  "71.2833",
                  "C",
                  "First",
                  "woman",
                  "False",
                  "C",
                  "Cherbourg",
                  "yes",
                  "False"
                ],
                [
                  "2",
                  "1",
                  "3",
                  "female",
                  "26.0",
                  "0",
                  "0",
                  "7.925",
                  "S",
                  "Third",
                  "woman",
                  "False",
                  null,
                  "Southampton",
                  "yes",
                  "True"
                ],
                [
                  "3",
                  "1",
                  "1",
                  "female",
                  "35.0",
                  "1",
                  "0",
                  "53.1",
                  "S",
                  "First",
                  "woman",
                  "False",
                  "C",
                  "Southampton",
                  "yes",
                  "False"
                ],
                [
                  "4",
                  "0",
                  "3",
                  "male",
                  "35.0",
                  "0",
                  "0",
                  "8.05",
                  "S",
                  "Third",
                  "man",
                  "True",
                  null,
                  "Southampton",
                  "no",
                  "True"
                ]
              ],
              "shape": {
                "columns": 15,
                "rows": 5
              }
            },
            "text/html": [
              "<div>\n",
              "<style scoped>\n",
              "    .dataframe tbody tr th:only-of-type {\n",
              "        vertical-align: middle;\n",
              "    }\n",
              "\n",
              "    .dataframe tbody tr th {\n",
              "        vertical-align: top;\n",
              "    }\n",
              "\n",
              "    .dataframe thead th {\n",
              "        text-align: right;\n",
              "    }\n",
              "</style>\n",
              "<table border=\"1\" class=\"dataframe\">\n",
              "  <thead>\n",
              "    <tr style=\"text-align: right;\">\n",
              "      <th></th>\n",
              "      <th>survived</th>\n",
              "      <th>pclass</th>\n",
              "      <th>sex</th>\n",
              "      <th>age</th>\n",
              "      <th>sibsp</th>\n",
              "      <th>parch</th>\n",
              "      <th>fare</th>\n",
              "      <th>embarked</th>\n",
              "      <th>class</th>\n",
              "      <th>who</th>\n",
              "      <th>adult_male</th>\n",
              "      <th>deck</th>\n",
              "      <th>embark_town</th>\n",
              "      <th>alive</th>\n",
              "      <th>alone</th>\n",
              "    </tr>\n",
              "  </thead>\n",
              "  <tbody>\n",
              "    <tr>\n",
              "      <th>0</th>\n",
              "      <td>0</td>\n",
              "      <td>3</td>\n",
              "      <td>male</td>\n",
              "      <td>22.0</td>\n",
              "      <td>1</td>\n",
              "      <td>0</td>\n",
              "      <td>7.2500</td>\n",
              "      <td>S</td>\n",
              "      <td>Third</td>\n",
              "      <td>man</td>\n",
              "      <td>True</td>\n",
              "      <td>NaN</td>\n",
              "      <td>Southampton</td>\n",
              "      <td>no</td>\n",
              "      <td>False</td>\n",
              "    </tr>\n",
              "    <tr>\n",
              "      <th>1</th>\n",
              "      <td>1</td>\n",
              "      <td>1</td>\n",
              "      <td>female</td>\n",
              "      <td>38.0</td>\n",
              "      <td>1</td>\n",
              "      <td>0</td>\n",
              "      <td>71.2833</td>\n",
              "      <td>C</td>\n",
              "      <td>First</td>\n",
              "      <td>woman</td>\n",
              "      <td>False</td>\n",
              "      <td>C</td>\n",
              "      <td>Cherbourg</td>\n",
              "      <td>yes</td>\n",
              "      <td>False</td>\n",
              "    </tr>\n",
              "    <tr>\n",
              "      <th>2</th>\n",
              "      <td>1</td>\n",
              "      <td>3</td>\n",
              "      <td>female</td>\n",
              "      <td>26.0</td>\n",
              "      <td>0</td>\n",
              "      <td>0</td>\n",
              "      <td>7.9250</td>\n",
              "      <td>S</td>\n",
              "      <td>Third</td>\n",
              "      <td>woman</td>\n",
              "      <td>False</td>\n",
              "      <td>NaN</td>\n",
              "      <td>Southampton</td>\n",
              "      <td>yes</td>\n",
              "      <td>True</td>\n",
              "    </tr>\n",
              "    <tr>\n",
              "      <th>3</th>\n",
              "      <td>1</td>\n",
              "      <td>1</td>\n",
              "      <td>female</td>\n",
              "      <td>35.0</td>\n",
              "      <td>1</td>\n",
              "      <td>0</td>\n",
              "      <td>53.1000</td>\n",
              "      <td>S</td>\n",
              "      <td>First</td>\n",
              "      <td>woman</td>\n",
              "      <td>False</td>\n",
              "      <td>C</td>\n",
              "      <td>Southampton</td>\n",
              "      <td>yes</td>\n",
              "      <td>False</td>\n",
              "    </tr>\n",
              "    <tr>\n",
              "      <th>4</th>\n",
              "      <td>0</td>\n",
              "      <td>3</td>\n",
              "      <td>male</td>\n",
              "      <td>35.0</td>\n",
              "      <td>0</td>\n",
              "      <td>0</td>\n",
              "      <td>8.0500</td>\n",
              "      <td>S</td>\n",
              "      <td>Third</td>\n",
              "      <td>man</td>\n",
              "      <td>True</td>\n",
              "      <td>NaN</td>\n",
              "      <td>Southampton</td>\n",
              "      <td>no</td>\n",
              "      <td>True</td>\n",
              "    </tr>\n",
              "  </tbody>\n",
              "</table>\n",
              "</div>"
            ],
            "text/plain": [
              "   survived  pclass     sex   age  sibsp  parch     fare embarked  class  \\\n",
              "0         0       3    male  22.0      1      0   7.2500        S  Third   \n",
              "1         1       1  female  38.0      1      0  71.2833        C  First   \n",
              "2         1       3  female  26.0      0      0   7.9250        S  Third   \n",
              "3         1       1  female  35.0      1      0  53.1000        S  First   \n",
              "4         0       3    male  35.0      0      0   8.0500        S  Third   \n",
              "\n",
              "     who  adult_male deck  embark_town alive  alone  \n",
              "0    man        True  NaN  Southampton    no  False  \n",
              "1  woman       False    C    Cherbourg   yes  False  \n",
              "2  woman       False  NaN  Southampton   yes   True  \n",
              "3  woman       False    C  Southampton   yes  False  \n",
              "4    man        True  NaN  Southampton    no   True  "
            ]
          },
          "execution_count": 2,
          "metadata": {},
          "output_type": "execute_result"
        }
      ],
      "source": [
        "# import sebaorn's titanic dataset\n",
        "df = sns.load_dataset(\"titanic\")\n",
        "df.head()"
      ]
    },
    {
      "cell_type": "code",
      "execution_count": 3,
      "id": "4ade3c9e",
      "metadata": {},
      "outputs": [],
      "source": [
        "import jcds.aws as jaws"
      ]
    },
    {
      "cell_type": "code",
      "execution_count": 4,
      "id": "a9c512ab",
      "metadata": {},
      "outputs": [
        {
          "name": "stdout",
          "output_type": "stream",
          "text": [
            "Available functions in jcds:\n",
            "\n",
            "  - list_s3_bucket\n",
            "\n",
            "Use jcds.help(\"function_name\") to see its documentation.\n"
          ]
        }
      ],
      "source": [
        "jaws.help()"
      ]
    },
    {
      "cell_type": "code",
      "execution_count": 5,
      "id": "6a59d71f",
      "metadata": {},
      "outputs": [
        {
          "name": "stdout",
          "output_type": "stream",
          "text": [
            "\n",
            "Help for 'list_s3_bucket':\n",
            "\n",
            "List the contents (object keys) of a public Amazon S3 bucket using anonymous access.\n",
            "\n",
            "Parameters\n",
            "----------\n",
            "bucket_name : str\n",
            "    The name of the public S3 bucket to list contents from.\n",
            "\n",
            "Returns\n",
            "-------\n",
            "None\n",
            "    Prints the keys (filenames) of the objects found in the bucket.\n",
            "\n",
            "Notes\n",
            "-----\n",
            "- This function uses anonymous (unsigned) access and works only with public buckets.\n",
            "- Requires the `boto3` and `botocore` libraries.\n",
            "- If the bucket is not public or an error occurs, an error message is printed.\n"
          ]
        }
      ],
      "source": [
        "jaws.help(\"list_s3_bucket\")"
      ]
    },
    {
      "cell_type": "code",
      "execution_count": 6,
      "id": "ca9cb700",
      "metadata": {},
      "outputs": [],
      "source": [
        "import jcds"
      ]
    },
    {
      "cell_type": "code",
      "execution_count": 7,
      "id": "c096bf6f",
      "metadata": {},
      "outputs": [
        {
          "name": "stdout",
          "output_type": "stream",
          "text": [
            "Available functions in jcds:\n",
            "\n",
            "  - count_cols_with_all_na\n",
            "  - count_cols_with_any_na\n",
            "  - count_rows_with_all_na\n",
            "  - count_rows_with_any_na\n",
            "  - count_total_na\n",
            "  - count_unique_values\n",
            "  - create_dt_col\n",
            "  - create_dt_cols\n",
            "  - display_all_col_head\n",
            "  - dqr_cat\n",
            "  - dqr_cont\n",
            "  - get_cat_list\n",
            "  - get_cont_list\n",
            "  - list_s3_bucket\n",
            "  - list_unique_values\n",
            "  - load_csv\n",
            "  - load_parquet\n",
            "  - long_report\n",
            "  - quick_report\n",
            "  - read_s3\n",
            "  - rename_col\n",
            "  - save_csv\n",
            "  - save_parquet\n",
            "  - show_binary_list\n",
            "  - show_catvar\n",
            "  - show_convar\n",
            "  - show_dupes\n",
            "  - show_lowcardvars\n",
            "  - show_shape\n",
            "\n",
            "Use jcds.help(\"function_name\") to see its documentation.\n"
          ]
        }
      ],
      "source": [
        "jcds.help()"
      ]
    },
    {
      "cell_type": "code",
      "execution_count": 8,
      "id": "d37b2589",
      "metadata": {},
      "outputs": [
        {
          "name": "stdout",
          "output_type": "stream",
          "text": [
            "Available functions in jcds:\n",
            "\n",
            "  - count_cols_with_all_na\n",
            "  - count_cols_with_any_na\n",
            "  - count_rows_with_all_na\n",
            "  - count_rows_with_any_na\n",
            "  - count_total_na\n",
            "  - count_unique_values\n",
            "  - create_dt_col\n",
            "  - create_dt_cols\n",
            "  - display_all_col_head\n",
            "  - dqr_cat\n",
            "  - dqr_cont\n",
            "  - get_cat_list\n",
            "  - get_cont_list\n",
            "  - list_unique_values\n",
            "  - long_report\n",
            "  - quick_report\n",
            "  - rename_col\n",
            "  - show_binary_list\n",
            "  - show_catvar\n",
            "  - show_convar\n",
            "  - show_dupes\n",
            "  - show_lowcardvars\n",
            "  - show_shape\n",
            "\n",
            "Use jcds.help(\"function_name\") to see its documentation.\n"
          ]
        }
      ],
      "source": [
        "jcds.eda.help()"
      ]
    },
    {
      "cell_type": "code",
      "execution_count": 9,
      "id": "1d800053",
      "metadata": {},
      "outputs": [
        {
          "name": "stdout",
          "output_type": "stream",
          "text": [
            "\n",
            "Help for 'dqr_cat':\n",
            "\n",
            "Generate a data quality report for categorical features in a given DataFrame.\n",
            "\n",
            "This function calculates and prints the following metrics for each feature in the provided list:\n",
            "- Total count of non-missing values\n",
            "- Total count of missing values\n",
            "- Percentage of missing values\n",
            "- Cardinality (number of unique values)\n",
            "- Mode 1 (most frequent value), its frequency, and percentage\n",
            "- Mode 2 (second most frequent value), its frequency, and percentage\n",
            "- Descriptive statistics for each feature\n",
            "\n",
            "Parameters\n",
            "----------\n",
            "dataframe : pandas.DataFrame\n",
            "    The DataFrame containing the data to be analyzed.\n",
            "list_of_features : list of str\n",
            "    The list of column names (features) for which the data quality report is generated.\n",
            "\n",
            "Returns\n",
            "-------\n",
            "None\n",
            "    This function prints the data quality report to the console.\n"
          ]
        }
      ],
      "source": [
        "jcds.eda.help(\"dqr_cat\")"
      ]
    },
    {
      "cell_type": "code",
      "execution_count": null,
      "id": "270b2b83",
      "metadata": {},
      "outputs": [],
      "source": []
    }
  ],
  "metadata": {
    "kernelspec": {
      "display_name": "jcds-dev",
      "language": "python",
      "name": "python3"
    },
    "language_info": {
      "codemirror_mode": {
        "name": "ipython",
        "version": 3
      },
      "file_extension": ".py",
      "mimetype": "text/x-python",
      "name": "python",
      "nbconvert_exporter": "python",
      "pygments_lexer": "ipython3",
      "version": "3.10.16"
    }
  },
  "nbformat": 4,
  "nbformat_minor": 5
}
