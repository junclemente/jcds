{
 "cells": [
  {
   "cell_type": "code",
   "execution_count": 1,
   "id": "a58f7a34",
   "metadata": {},
   "outputs": [],
   "source": [
    "import pandas as pd\n",
    "import seaborn as sns\n",
    "\n",
    "# import library\n",
    "from jcds import eda as jeda"
   ]
  },
  {
   "cell_type": "code",
   "execution_count": 2,
   "id": "78ac519f",
   "metadata": {},
   "outputs": [
    {
     "data": {
      "application/vnd.microsoft.datawrangler.viewer.v0+json": {
       "columns": [
        {
         "name": "index",
         "rawType": "int64",
         "type": "integer"
        },
        {
         "name": "survived",
         "rawType": "int64",
         "type": "integer"
        },
        {
         "name": "pclass",
         "rawType": "int64",
         "type": "integer"
        },
        {
         "name": "sex",
         "rawType": "object",
         "type": "string"
        },
        {
         "name": "age",
         "rawType": "float64",
         "type": "float"
        },
        {
         "name": "sibsp",
         "rawType": "int64",
         "type": "integer"
        },
        {
         "name": "parch",
         "rawType": "int64",
         "type": "integer"
        },
        {
         "name": "fare",
         "rawType": "float64",
         "type": "float"
        },
        {
         "name": "embarked",
         "rawType": "object",
         "type": "string"
        },
        {
         "name": "class",
         "rawType": "category",
         "type": "unknown"
        },
        {
         "name": "who",
         "rawType": "object",
         "type": "string"
        },
        {
         "name": "adult_male",
         "rawType": "bool",
         "type": "boolean"
        },
        {
         "name": "deck",
         "rawType": "category",
         "type": "unknown"
        },
        {
         "name": "embark_town",
         "rawType": "object",
         "type": "string"
        },
        {
         "name": "alive",
         "rawType": "object",
         "type": "string"
        },
        {
         "name": "alone",
         "rawType": "bool",
         "type": "boolean"
        }
       ],
       "conversionMethod": "pd.DataFrame",
       "ref": "b8e5acd0-e100-49c7-959b-3e08e2469b28",
       "rows": [
        [
         "0",
         "0",
         "3",
         "male",
         "22.0",
         "1",
         "0",
         "7.25",
         "S",
         "Third",
         "man",
         "True",
         null,
         "Southampton",
         "no",
         "False"
        ],
        [
         "1",
         "1",
         "1",
         "female",
         "38.0",
         "1",
         "0",
         "71.2833",
         "C",
         "First",
         "woman",
         "False",
         "C",
         "Cherbourg",
         "yes",
         "False"
        ],
        [
         "2",
         "1",
         "3",
         "female",
         "26.0",
         "0",
         "0",
         "7.925",
         "S",
         "Third",
         "woman",
         "False",
         null,
         "Southampton",
         "yes",
         "True"
        ],
        [
         "3",
         "1",
         "1",
         "female",
         "35.0",
         "1",
         "0",
         "53.1",
         "S",
         "First",
         "woman",
         "False",
         "C",
         "Southampton",
         "yes",
         "False"
        ],
        [
         "4",
         "0",
         "3",
         "male",
         "35.0",
         "0",
         "0",
         "8.05",
         "S",
         "Third",
         "man",
         "True",
         null,
         "Southampton",
         "no",
         "True"
        ]
       ],
       "shape": {
        "columns": 15,
        "rows": 5
       }
      },
      "text/html": [
       "<div>\n",
       "<style scoped>\n",
       "    .dataframe tbody tr th:only-of-type {\n",
       "        vertical-align: middle;\n",
       "    }\n",
       "\n",
       "    .dataframe tbody tr th {\n",
       "        vertical-align: top;\n",
       "    }\n",
       "\n",
       "    .dataframe thead th {\n",
       "        text-align: right;\n",
       "    }\n",
       "</style>\n",
       "<table border=\"1\" class=\"dataframe\">\n",
       "  <thead>\n",
       "    <tr style=\"text-align: right;\">\n",
       "      <th></th>\n",
       "      <th>survived</th>\n",
       "      <th>pclass</th>\n",
       "      <th>sex</th>\n",
       "      <th>age</th>\n",
       "      <th>sibsp</th>\n",
       "      <th>parch</th>\n",
       "      <th>fare</th>\n",
       "      <th>embarked</th>\n",
       "      <th>class</th>\n",
       "      <th>who</th>\n",
       "      <th>adult_male</th>\n",
       "      <th>deck</th>\n",
       "      <th>embark_town</th>\n",
       "      <th>alive</th>\n",
       "      <th>alone</th>\n",
       "    </tr>\n",
       "  </thead>\n",
       "  <tbody>\n",
       "    <tr>\n",
       "      <th>0</th>\n",
       "      <td>0</td>\n",
       "      <td>3</td>\n",
       "      <td>male</td>\n",
       "      <td>22.0</td>\n",
       "      <td>1</td>\n",
       "      <td>0</td>\n",
       "      <td>7.2500</td>\n",
       "      <td>S</td>\n",
       "      <td>Third</td>\n",
       "      <td>man</td>\n",
       "      <td>True</td>\n",
       "      <td>NaN</td>\n",
       "      <td>Southampton</td>\n",
       "      <td>no</td>\n",
       "      <td>False</td>\n",
       "    </tr>\n",
       "    <tr>\n",
       "      <th>1</th>\n",
       "      <td>1</td>\n",
       "      <td>1</td>\n",
       "      <td>female</td>\n",
       "      <td>38.0</td>\n",
       "      <td>1</td>\n",
       "      <td>0</td>\n",
       "      <td>71.2833</td>\n",
       "      <td>C</td>\n",
       "      <td>First</td>\n",
       "      <td>woman</td>\n",
       "      <td>False</td>\n",
       "      <td>C</td>\n",
       "      <td>Cherbourg</td>\n",
       "      <td>yes</td>\n",
       "      <td>False</td>\n",
       "    </tr>\n",
       "    <tr>\n",
       "      <th>2</th>\n",
       "      <td>1</td>\n",
       "      <td>3</td>\n",
       "      <td>female</td>\n",
       "      <td>26.0</td>\n",
       "      <td>0</td>\n",
       "      <td>0</td>\n",
       "      <td>7.9250</td>\n",
       "      <td>S</td>\n",
       "      <td>Third</td>\n",
       "      <td>woman</td>\n",
       "      <td>False</td>\n",
       "      <td>NaN</td>\n",
       "      <td>Southampton</td>\n",
       "      <td>yes</td>\n",
       "      <td>True</td>\n",
       "    </tr>\n",
       "    <tr>\n",
       "      <th>3</th>\n",
       "      <td>1</td>\n",
       "      <td>1</td>\n",
       "      <td>female</td>\n",
       "      <td>35.0</td>\n",
       "      <td>1</td>\n",
       "      <td>0</td>\n",
       "      <td>53.1000</td>\n",
       "      <td>S</td>\n",
       "      <td>First</td>\n",
       "      <td>woman</td>\n",
       "      <td>False</td>\n",
       "      <td>C</td>\n",
       "      <td>Southampton</td>\n",
       "      <td>yes</td>\n",
       "      <td>False</td>\n",
       "    </tr>\n",
       "    <tr>\n",
       "      <th>4</th>\n",
       "      <td>0</td>\n",
       "      <td>3</td>\n",
       "      <td>male</td>\n",
       "      <td>35.0</td>\n",
       "      <td>0</td>\n",
       "      <td>0</td>\n",
       "      <td>8.0500</td>\n",
       "      <td>S</td>\n",
       "      <td>Third</td>\n",
       "      <td>man</td>\n",
       "      <td>True</td>\n",
       "      <td>NaN</td>\n",
       "      <td>Southampton</td>\n",
       "      <td>no</td>\n",
       "      <td>True</td>\n",
       "    </tr>\n",
       "  </tbody>\n",
       "</table>\n",
       "</div>"
      ],
      "text/plain": [
       "   survived  pclass     sex   age  sibsp  parch     fare embarked  class  \\\n",
       "0         0       3    male  22.0      1      0   7.2500        S  Third   \n",
       "1         1       1  female  38.0      1      0  71.2833        C  First   \n",
       "2         1       3  female  26.0      0      0   7.9250        S  Third   \n",
       "3         1       1  female  35.0      1      0  53.1000        S  First   \n",
       "4         0       3    male  35.0      0      0   8.0500        S  Third   \n",
       "\n",
       "     who  adult_male deck  embark_town alive  alone  \n",
       "0    man        True  NaN  Southampton    no  False  \n",
       "1  woman       False    C    Cherbourg   yes  False  \n",
       "2  woman       False  NaN  Southampton   yes   True  \n",
       "3  woman       False    C  Southampton   yes  False  \n",
       "4    man        True  NaN  Southampton    no   True  "
      ]
     },
     "execution_count": 2,
     "metadata": {},
     "output_type": "execute_result"
    }
   ],
   "source": [
    "# import sebaorn's titanic dataset\n",
    "df = sns.load_dataset(\"titanic\")\n",
    "df.head()"
   ]
  },
  {
   "cell_type": "code",
   "execution_count": 3,
   "id": "8db93d7b",
   "metadata": {},
   "outputs": [],
   "source": [
    "import jcds"
   ]
  },
  {
   "cell_type": "code",
   "execution_count": 4,
   "id": "5ed13508",
   "metadata": {},
   "outputs": [
    {
     "name": "stdout",
     "output_type": "stream",
     "text": [
      "Available functions in jcds:\n",
      "\n",
      "  - count_cols_with_all_na\n",
      "  - count_cols_with_any_na\n",
      "  - count_rows_with_all_na\n",
      "  - count_rows_with_any_na\n",
      "  - count_total_na\n",
      "  - count_unique_values\n",
      "  - create_dt_col\n",
      "  - create_dt_cols\n",
      "  - display_all_col_head\n",
      "  - dqr_cat\n",
      "  - dqr_cont\n",
      "  - get_cat_list\n",
      "  - get_cont_list\n",
      "  - list_unique_values\n",
      "  - long_report\n",
      "  - quick_report\n",
      "  - rename_col\n",
      "  - show_binary_list\n",
      "  - show_catvar\n",
      "  - show_convar\n",
      "  - show_dupes\n",
      "  - show_lowcardvars\n",
      "  - show_shape\n",
      "\n",
      "Use jcds.help(\"function_name\") to see its documentation.\n"
     ]
    }
   ],
   "source": [
    "jcds.eda.help()"
   ]
  },
  {
   "cell_type": "code",
   "execution_count": 5,
   "id": "519d5433",
   "metadata": {},
   "outputs": [
    {
     "name": "stdout",
     "output_type": "stream",
     "text": [
      "Available functions in jcds:\n",
      "\n",
      "  - count_cols_with_all_na\n",
      "  - count_cols_with_any_na\n",
      "  - count_rows_with_all_na\n",
      "  - count_rows_with_any_na\n",
      "  - count_total_na\n",
      "  - count_unique_values\n",
      "  - create_dt_col\n",
      "  - create_dt_cols\n",
      "  - display_all_col_head\n",
      "  - dqr_cat\n",
      "  - dqr_cont\n",
      "  - get_cat_list\n",
      "  - get_cont_list\n",
      "  - list_unique_values\n",
      "  - long_report\n",
      "  - quick_report\n",
      "  - rename_col\n",
      "  - show_binary_list\n",
      "  - show_catvar\n",
      "  - show_convar\n",
      "  - show_dupes\n",
      "  - show_lowcardvars\n",
      "  - show_shape\n",
      "\n",
      "Use jcds.help(\"function_name\") to see its documentation.\n"
     ]
    }
   ],
   "source": [
    "jeda.help()"
   ]
  },
  {
   "cell_type": "code",
   "execution_count": 6,
   "id": "9f69c9af",
   "metadata": {},
   "outputs": [
    {
     "name": "stdout",
     "output_type": "stream",
     "text": [
      "\n",
      "Help for 'show_shape':\n",
      "\n",
      "Return the shape (number of rows and columns) of the given DataFrame.\n",
      "\n",
      "Parameters\n",
      "----------\n",
      "dataframe : pd.DataFrame\n",
      "    The input pandas DataFrame.\n",
      "\n",
      "Returns\n",
      "-------\n",
      "tuple of int\n",
      "    A tuple containing the number of rows and columns in the DataFrame.\n"
     ]
    }
   ],
   "source": [
    "jeda.help(\"show_shape\")"
   ]
  },
  {
   "cell_type": "code",
   "execution_count": 7,
   "id": "c637b2c0",
   "metadata": {},
   "outputs": [
    {
     "name": "stdout",
     "output_type": "stream",
     "text": [
      "\u001b[93m\n",
      "============================================================\n",
      "                  ⚠️  DEPRECATION WARNING                   \n",
      "------------------------------------------------------------\n",
      "`quick_report()` is deprecated and will be removed in v0.3.0. This will be replaced with a new function.\n",
      "============================================================\n",
      "\u001b[0m\n",
      "============================================\n",
      "Quick Report - info(memory_usage='deep')\n",
      "Total cols: 15\n",
      "Rows missing all values: 0 (0.0%)\n",
      "Total Rows: 891\n",
      "Cols with missing values: 4 (26.67%)\n",
      "Total missing values in dataset: 869\n",
      "============================================\n"
     ]
    },
    {
     "name": "stderr",
     "output_type": "stream",
     "text": [
      "/tmp/ipykernel_73821/572483181.py:1: DeprecationWarning: `quick_report()` is deprecated and will be removed in v0.3.0. This will be replaced with a new function.\n",
      "  jeda.quick_report(df)\n"
     ]
    }
   ],
   "source": [
    "jeda.quick_report(df)"
   ]
  },
  {
   "cell_type": "code",
   "execution_count": 8,
   "id": "86a0d5b1",
   "metadata": {},
   "outputs": [
    {
     "name": "stdout",
     "output_type": "stream",
     "text": [
      "\u001b[93m\n",
      "============================================================\n",
      "                  ⚠️  DEPRECATION WARNING                   \n",
      "------------------------------------------------------------\n",
      "`long_report()` is deprecated and will be removed in v0.3.0. This will be replaced with a new function.\n",
      "============================================================\n",
      "\u001b[0m\n",
      "============================================\n",
      "Quick Report - info(memory_usage='deep')\n",
      "Total cols: 15\n",
      "Rows missing all values: 0 (0.0%)\n",
      "Total Rows: 891\n",
      "Cols with missing values: 4 (26.67%)\n",
      "Total missing values in dataset: 869\n",
      "============================================\n",
      "Categorical features: 7\n",
      "- sex: 2 unique values\n",
      "- embarked: 4 unique values\n",
      "- class: 3 unique values\n",
      "- who: 3 unique values\n",
      "- deck: 8 unique values\n",
      "- embark_town: 4 unique values\n",
      "- alive: 2 unique values\n",
      "============================================\n",
      "Continuous features: 8\n",
      "- survived: 2 unique values\n",
      "- pclass: 3 unique values\n",
      "- age: 89 unique values\n",
      "- sibsp: 7 unique values\n",
      "- parch: 7 unique values\n",
      "- fare: 248 unique values\n",
      "- adult_male: 2 unique values\n",
      "- alone: 2 unique values\n"
     ]
    },
    {
     "name": "stderr",
     "output_type": "stream",
     "text": [
      "/tmp/ipykernel_73821/777615861.py:1: DeprecationWarning: `long_report()` is deprecated and will be removed in v0.3.0. This will be replaced with a new function.\n",
      "  jeda.long_report(df)\n"
     ]
    }
   ],
   "source": [
    "jeda.long_report(df)"
   ]
  },
  {
   "cell_type": "code",
   "execution_count": 9,
   "id": "d3f73674",
   "metadata": {},
   "outputs": [],
   "source": [
    "from jcds import dataio as jio"
   ]
  },
  {
   "cell_type": "code",
   "execution_count": 10,
   "id": "ec7a7f2b",
   "metadata": {},
   "outputs": [
    {
     "name": "stdout",
     "output_type": "stream",
     "text": [
      "Available functions in jcds:\n",
      "\n",
      "  - load_csv\n",
      "  - load_parquet\n",
      "  - read_s3\n",
      "  - save_csv\n",
      "  - save_parquet\n",
      "\n",
      "Use jcds.help(\"function_name\") to see its documentation.\n"
     ]
    }
   ],
   "source": [
    "jio.help()"
   ]
  },
  {
   "cell_type": "code",
   "execution_count": 11,
   "id": "48b8ebae",
   "metadata": {},
   "outputs": [
    {
     "name": "stdout",
     "output_type": "stream",
     "text": [
      "\n",
      "Help for 'load_csv':\n",
      "\n",
      "Attempt to load a CSV using multiple encodings. If all fail, preview raw bytes.\n",
      "\n",
      "Parameters\n",
      "----------\n",
      "filepath : str or Path\n",
      "    Path to the CSV file.\n",
      "encodings : list of str, optional\n",
      "    List of encodings to try. Defaults to common ones.\n",
      "preview_bytes : int\n",
      "    Number of bytes to show if loading fails (for debugging).\n",
      "**kwargs\n",
      "    Additional arguments passed to `pd.read_csv`.\n",
      "\n",
      "Returns\n",
      "-------\n",
      "pd.DataFrame\n",
      "    Loaded DataFrame.\n",
      "\n",
      "Raises\n",
      "------\n",
      "UnicodeDecodeError\n",
      "    If no encoding successfully loads the file.\n",
      "\n",
      "Notes\n",
      "-----\n"
     ]
    }
   ],
   "source": [
    "jio.help(\"load_csv\")"
   ]
  },
  {
   "cell_type": "code",
   "execution_count": 12,
   "id": "ba073c46",
   "metadata": {},
   "outputs": [],
   "source": [
    "import jcds"
   ]
  },
  {
   "cell_type": "code",
   "execution_count": 13,
   "id": "96775049",
   "metadata": {},
   "outputs": [
    {
     "name": "stdout",
     "output_type": "stream",
     "text": [
      "Available functions in jcds:\n",
      "\n",
      "  - count_cols_with_all_na\n",
      "  - count_cols_with_any_na\n",
      "  - count_rows_with_all_na\n",
      "  - count_rows_with_any_na\n",
      "  - count_total_na\n",
      "  - count_unique_values\n",
      "  - create_dt_col\n",
      "  - create_dt_cols\n",
      "  - display_all_col_head\n",
      "  - dqr_cat\n",
      "  - dqr_cont\n",
      "  - get_cat_list\n",
      "  - get_cont_list\n",
      "  - list_s3_bucket\n",
      "  - list_unique_values\n",
      "  - load_csv\n",
      "  - load_parquet\n",
      "  - long_report\n",
      "  - quick_report\n",
      "  - read_s3\n",
      "  - rename_col\n",
      "  - save_csv\n",
      "  - save_parquet\n",
      "  - show_binary_list\n",
      "  - show_catvar\n",
      "  - show_convar\n",
      "  - show_dupes\n",
      "  - show_lowcardvars\n",
      "  - show_shape\n",
      "\n",
      "Use jcds.help(\"function_name\") to see its documentation.\n"
     ]
    }
   ],
   "source": [
    "jcds.help()"
   ]
  },
  {
   "cell_type": "code",
   "execution_count": 14,
   "id": "d187beee",
   "metadata": {},
   "outputs": [
    {
     "name": "stdout",
     "output_type": "stream",
     "text": [
      "\n",
      "Help for 'show_binary_list':\n",
      "\n",
      "Identify binary columns in a DataFrame, optionally considering missing values.\n",
      "\n",
      "Parameters\n",
      "----------\n",
      "dataframe : pd.DataFrame\n",
      "    The input pandas DataFrame.\n",
      "dropna : bool, optional\n",
      "    If True, NaN values are excluded when determining binary columns. Default is True.\n",
      "\n",
      "Returns\n",
      "-------\n",
      "dict\n",
      "    A dictionary with two keys:\n",
      "        - \"binary_columns\": list of column names that contain exactly two unique non-null values.\n",
      "        - \"binary_with_nan\": list of column names that have two unique non-null values and also include NaNs.\n"
     ]
    }
   ],
   "source": [
    "jcds.eda.help(\"show_binary_list\")"
   ]
  },
  {
   "cell_type": "code",
   "execution_count": 15,
   "id": "53258141",
   "metadata": {},
   "outputs": [
    {
     "name": "stdout",
     "output_type": "stream",
     "text": [
      "Available functions in jcds:\n",
      "\n",
      "  - count_cols_with_all_na\n",
      "  - count_cols_with_any_na\n",
      "  - count_rows_with_all_na\n",
      "  - count_rows_with_any_na\n",
      "  - count_total_na\n",
      "  - count_unique_values\n",
      "  - create_dt_col\n",
      "  - create_dt_cols\n",
      "  - display_all_col_head\n",
      "  - dqr_cat\n",
      "  - dqr_cont\n",
      "  - get_cat_list\n",
      "  - get_cont_list\n",
      "  - list_unique_values\n",
      "  - long_report\n",
      "  - quick_report\n",
      "  - rename_col\n",
      "  - show_binary_list\n",
      "  - show_catvar\n",
      "  - show_convar\n",
      "  - show_dupes\n",
      "  - show_lowcardvars\n",
      "  - show_shape\n",
      "\n",
      "Use jcds.help(\"function_name\") to see its documentation.\n"
     ]
    }
   ],
   "source": [
    "jcds.eda.help()"
   ]
  },
  {
   "cell_type": "code",
   "execution_count": 16,
   "id": "41c6e5dc",
   "metadata": {},
   "outputs": [
    {
     "name": "stdout",
     "output_type": "stream",
     "text": [
      "Available functions in jcds:\n",
      "\n",
      "  - list_s3_bucket\n",
      "\n",
      "Use jcds.help(\"function_name\") to see its documentation.\n"
     ]
    }
   ],
   "source": [
    "jcds.aws.help()"
   ]
  },
  {
   "cell_type": "code",
   "execution_count": null,
   "id": "499c437b",
   "metadata": {},
   "outputs": [],
   "source": []
  }
 ],
 "metadata": {
  "kernelspec": {
   "display_name": "jcds-dev",
   "language": "python",
   "name": "python3"
  },
  "language_info": {
   "codemirror_mode": {
    "name": "ipython",
    "version": 3
   },
   "file_extension": ".py",
   "mimetype": "text/x-python",
   "name": "python",
   "nbconvert_exporter": "python",
   "pygments_lexer": "ipython3",
   "version": "3.10.16"
  }
 },
 "nbformat": 4,
 "nbformat_minor": 5
}
