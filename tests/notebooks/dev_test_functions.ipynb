{
 "cells": [
  {
   "cell_type": "code",
   "execution_count": 16,
   "id": "db584c89",
   "metadata": {},
   "outputs": [],
   "source": [
    "# 📓 JCDS Live Function Testing Notebook\n",
    "# File: tests/notebooks/dev_test_functions.ipynb"
   ]
  },
  {
   "cell_type": "code",
   "execution_count": 17,
   "id": "00e3d1c2",
   "metadata": {},
   "outputs": [],
   "source": [
    "# ----------------------------------------------------------------------------\n",
    "# 🧼 Notes\n",
    "# ----------------------------------------------------------------------------\n",
    "# - This notebook uses `%autoreload 2` to automatically reload all updated modules.\n",
    "# - You can call any function from your library here to test live edits.\n",
    "# - This notebook lives in tests/notebooks/ for organized dev use.\n",
    "# - You can copy this structure for testing other modules as needed."
   ]
  },
  {
   "cell_type": "code",
   "execution_count": 16,
   "id": "7b567f77",
   "metadata": {},
   "outputs": [
    {
     "data": {
      "application/vnd.microsoft.datawrangler.viewer.v0+json": {
       "columns": [
        {
         "name": "index",
         "rawType": "int64",
         "type": "integer"
        },
        {
         "name": "VIN (1-10)",
         "rawType": "object",
         "type": "string"
        },
        {
         "name": "County",
         "rawType": "object",
         "type": "string"
        },
        {
         "name": "City",
         "rawType": "object",
         "type": "string"
        },
        {
         "name": "State",
         "rawType": "object",
         "type": "string"
        },
        {
         "name": "Postal Code",
         "rawType": "float64",
         "type": "float"
        },
        {
         "name": "Model Year",
         "rawType": "int64",
         "type": "integer"
        },
        {
         "name": "Make",
         "rawType": "object",
         "type": "string"
        },
        {
         "name": "Model",
         "rawType": "object",
         "type": "string"
        },
        {
         "name": "Electric Vehicle Type",
         "rawType": "object",
         "type": "string"
        },
        {
         "name": "Clean Alternative Fuel Vehicle (CAFV) Eligibility",
         "rawType": "object",
         "type": "string"
        },
        {
         "name": "Electric Range",
         "rawType": "float64",
         "type": "float"
        },
        {
         "name": "Base MSRP",
         "rawType": "float64",
         "type": "float"
        },
        {
         "name": "Legislative District",
         "rawType": "float64",
         "type": "float"
        },
        {
         "name": "DOL Vehicle ID",
         "rawType": "int64",
         "type": "integer"
        },
        {
         "name": "Vehicle Location",
         "rawType": "object",
         "type": "string"
        },
        {
         "name": "Electric Utility",
         "rawType": "object",
         "type": "string"
        },
        {
         "name": "2020 Census Tract",
         "rawType": "float64",
         "type": "float"
        }
       ],
       "conversionMethod": "pd.DataFrame",
       "ref": "72391810-1b70-485d-a0cf-37a92daae1b1",
       "rows": [
        [
         "0",
         "5YJ3E1EBXK",
         "King",
         "Seattle",
         "WA",
         "98178.0",
         "2019",
         "TESLA",
         "MODEL 3",
         "Battery Electric Vehicle (BEV)",
         "Clean Alternative Fuel Vehicle Eligible",
         "220.0",
         "0.0",
         "37.0",
         "477309682",
         "POINT (-122.23825 47.49461)",
         "CITY OF SEATTLE - (WA)|CITY OF TACOMA - (WA)",
         "53033011902.0"
        ],
        [
         "1",
         "5YJYGDEE3L",
         "Kitsap",
         "Poulsbo",
         "WA",
         "98370.0",
         "2020",
         "TESLA",
         "MODEL Y",
         "Battery Electric Vehicle (BEV)",
         "Clean Alternative Fuel Vehicle Eligible",
         "291.0",
         "0.0",
         "23.0",
         "109705683",
         "POINT (-122.64681 47.73689)",
         "PUGET SOUND ENERGY INC",
         "53035091100.0"
        ],
        [
         "2",
         "KM8KRDAF5P",
         "Kitsap",
         "Olalla",
         "WA",
         "98359.0",
         "2023",
         "HYUNDAI",
         "IONIQ 5",
         "Battery Electric Vehicle (BEV)",
         "Eligibility unknown as battery range has not been researched",
         "0.0",
         "0.0",
         "26.0",
         "230390492",
         "POINT (-122.54729 47.42602)",
         "PUGET SOUND ENERGY INC",
         "53035092802.0"
        ],
        [
         "3",
         "5UXTA6C0XM",
         "Kitsap",
         "Seabeck",
         "WA",
         "98380.0",
         "2021",
         "BMW",
         "X5",
         "Plug-in Hybrid Electric Vehicle (PHEV)",
         "Clean Alternative Fuel Vehicle Eligible",
         "30.0",
         "0.0",
         "35.0",
         "267929112",
         "POINT (-122.81585 47.64509)",
         "PUGET SOUND ENERGY INC",
         "53035091301.0"
        ],
        [
         "4",
         "JTMAB3FV7P",
         "Thurston",
         "Rainier",
         "WA",
         "98576.0",
         "2023",
         "TOYOTA",
         "RAV4 PRIME",
         "Plug-in Hybrid Electric Vehicle (PHEV)",
         "Clean Alternative Fuel Vehicle Eligible",
         "42.0",
         "0.0",
         "2.0",
         "236505139",
         "POINT (-122.68993 46.88897)",
         "PUGET SOUND ENERGY INC",
         "53067012530.0"
        ]
       ],
       "shape": {
        "columns": 17,
        "rows": 5
       }
      },
      "text/html": [
       "<div>\n",
       "<style scoped>\n",
       "    .dataframe tbody tr th:only-of-type {\n",
       "        vertical-align: middle;\n",
       "    }\n",
       "\n",
       "    .dataframe tbody tr th {\n",
       "        vertical-align: top;\n",
       "    }\n",
       "\n",
       "    .dataframe thead th {\n",
       "        text-align: right;\n",
       "    }\n",
       "</style>\n",
       "<table border=\"1\" class=\"dataframe\">\n",
       "  <thead>\n",
       "    <tr style=\"text-align: right;\">\n",
       "      <th></th>\n",
       "      <th>VIN (1-10)</th>\n",
       "      <th>County</th>\n",
       "      <th>City</th>\n",
       "      <th>State</th>\n",
       "      <th>Postal Code</th>\n",
       "      <th>Model Year</th>\n",
       "      <th>Make</th>\n",
       "      <th>Model</th>\n",
       "      <th>Electric Vehicle Type</th>\n",
       "      <th>Clean Alternative Fuel Vehicle (CAFV) Eligibility</th>\n",
       "      <th>Electric Range</th>\n",
       "      <th>Base MSRP</th>\n",
       "      <th>Legislative District</th>\n",
       "      <th>DOL Vehicle ID</th>\n",
       "      <th>Vehicle Location</th>\n",
       "      <th>Electric Utility</th>\n",
       "      <th>2020 Census Tract</th>\n",
       "    </tr>\n",
       "  </thead>\n",
       "  <tbody>\n",
       "    <tr>\n",
       "      <th>0</th>\n",
       "      <td>5YJ3E1EBXK</td>\n",
       "      <td>King</td>\n",
       "      <td>Seattle</td>\n",
       "      <td>WA</td>\n",
       "      <td>98178.0</td>\n",
       "      <td>2019</td>\n",
       "      <td>TESLA</td>\n",
       "      <td>MODEL 3</td>\n",
       "      <td>Battery Electric Vehicle (BEV)</td>\n",
       "      <td>Clean Alternative Fuel Vehicle Eligible</td>\n",
       "      <td>220.0</td>\n",
       "      <td>0.0</td>\n",
       "      <td>37.0</td>\n",
       "      <td>477309682</td>\n",
       "      <td>POINT (-122.23825 47.49461)</td>\n",
       "      <td>CITY OF SEATTLE - (WA)|CITY OF TACOMA - (WA)</td>\n",
       "      <td>5.303301e+10</td>\n",
       "    </tr>\n",
       "    <tr>\n",
       "      <th>1</th>\n",
       "      <td>5YJYGDEE3L</td>\n",
       "      <td>Kitsap</td>\n",
       "      <td>Poulsbo</td>\n",
       "      <td>WA</td>\n",
       "      <td>98370.0</td>\n",
       "      <td>2020</td>\n",
       "      <td>TESLA</td>\n",
       "      <td>MODEL Y</td>\n",
       "      <td>Battery Electric Vehicle (BEV)</td>\n",
       "      <td>Clean Alternative Fuel Vehicle Eligible</td>\n",
       "      <td>291.0</td>\n",
       "      <td>0.0</td>\n",
       "      <td>23.0</td>\n",
       "      <td>109705683</td>\n",
       "      <td>POINT (-122.64681 47.73689)</td>\n",
       "      <td>PUGET SOUND ENERGY INC</td>\n",
       "      <td>5.303509e+10</td>\n",
       "    </tr>\n",
       "    <tr>\n",
       "      <th>2</th>\n",
       "      <td>KM8KRDAF5P</td>\n",
       "      <td>Kitsap</td>\n",
       "      <td>Olalla</td>\n",
       "      <td>WA</td>\n",
       "      <td>98359.0</td>\n",
       "      <td>2023</td>\n",
       "      <td>HYUNDAI</td>\n",
       "      <td>IONIQ 5</td>\n",
       "      <td>Battery Electric Vehicle (BEV)</td>\n",
       "      <td>Eligibility unknown as battery range has not b...</td>\n",
       "      <td>0.0</td>\n",
       "      <td>0.0</td>\n",
       "      <td>26.0</td>\n",
       "      <td>230390492</td>\n",
       "      <td>POINT (-122.54729 47.42602)</td>\n",
       "      <td>PUGET SOUND ENERGY INC</td>\n",
       "      <td>5.303509e+10</td>\n",
       "    </tr>\n",
       "    <tr>\n",
       "      <th>3</th>\n",
       "      <td>5UXTA6C0XM</td>\n",
       "      <td>Kitsap</td>\n",
       "      <td>Seabeck</td>\n",
       "      <td>WA</td>\n",
       "      <td>98380.0</td>\n",
       "      <td>2021</td>\n",
       "      <td>BMW</td>\n",
       "      <td>X5</td>\n",
       "      <td>Plug-in Hybrid Electric Vehicle (PHEV)</td>\n",
       "      <td>Clean Alternative Fuel Vehicle Eligible</td>\n",
       "      <td>30.0</td>\n",
       "      <td>0.0</td>\n",
       "      <td>35.0</td>\n",
       "      <td>267929112</td>\n",
       "      <td>POINT (-122.81585 47.64509)</td>\n",
       "      <td>PUGET SOUND ENERGY INC</td>\n",
       "      <td>5.303509e+10</td>\n",
       "    </tr>\n",
       "    <tr>\n",
       "      <th>4</th>\n",
       "      <td>JTMAB3FV7P</td>\n",
       "      <td>Thurston</td>\n",
       "      <td>Rainier</td>\n",
       "      <td>WA</td>\n",
       "      <td>98576.0</td>\n",
       "      <td>2023</td>\n",
       "      <td>TOYOTA</td>\n",
       "      <td>RAV4 PRIME</td>\n",
       "      <td>Plug-in Hybrid Electric Vehicle (PHEV)</td>\n",
       "      <td>Clean Alternative Fuel Vehicle Eligible</td>\n",
       "      <td>42.0</td>\n",
       "      <td>0.0</td>\n",
       "      <td>2.0</td>\n",
       "      <td>236505139</td>\n",
       "      <td>POINT (-122.68993 46.88897)</td>\n",
       "      <td>PUGET SOUND ENERGY INC</td>\n",
       "      <td>5.306701e+10</td>\n",
       "    </tr>\n",
       "  </tbody>\n",
       "</table>\n",
       "</div>"
      ],
      "text/plain": [
       "   VIN (1-10)    County     City State  Postal Code  Model Year     Make  \\\n",
       "0  5YJ3E1EBXK      King  Seattle    WA      98178.0        2019    TESLA   \n",
       "1  5YJYGDEE3L    Kitsap  Poulsbo    WA      98370.0        2020    TESLA   \n",
       "2  KM8KRDAF5P    Kitsap   Olalla    WA      98359.0        2023  HYUNDAI   \n",
       "3  5UXTA6C0XM    Kitsap  Seabeck    WA      98380.0        2021      BMW   \n",
       "4  JTMAB3FV7P  Thurston  Rainier    WA      98576.0        2023   TOYOTA   \n",
       "\n",
       "        Model                   Electric Vehicle Type  \\\n",
       "0     MODEL 3          Battery Electric Vehicle (BEV)   \n",
       "1     MODEL Y          Battery Electric Vehicle (BEV)   \n",
       "2     IONIQ 5          Battery Electric Vehicle (BEV)   \n",
       "3          X5  Plug-in Hybrid Electric Vehicle (PHEV)   \n",
       "4  RAV4 PRIME  Plug-in Hybrid Electric Vehicle (PHEV)   \n",
       "\n",
       "   Clean Alternative Fuel Vehicle (CAFV) Eligibility  Electric Range  \\\n",
       "0            Clean Alternative Fuel Vehicle Eligible           220.0   \n",
       "1            Clean Alternative Fuel Vehicle Eligible           291.0   \n",
       "2  Eligibility unknown as battery range has not b...             0.0   \n",
       "3            Clean Alternative Fuel Vehicle Eligible            30.0   \n",
       "4            Clean Alternative Fuel Vehicle Eligible            42.0   \n",
       "\n",
       "   Base MSRP  Legislative District  DOL Vehicle ID  \\\n",
       "0        0.0                  37.0       477309682   \n",
       "1        0.0                  23.0       109705683   \n",
       "2        0.0                  26.0       230390492   \n",
       "3        0.0                  35.0       267929112   \n",
       "4        0.0                   2.0       236505139   \n",
       "\n",
       "              Vehicle Location                              Electric Utility  \\\n",
       "0  POINT (-122.23825 47.49461)  CITY OF SEATTLE - (WA)|CITY OF TACOMA - (WA)   \n",
       "1  POINT (-122.64681 47.73689)                        PUGET SOUND ENERGY INC   \n",
       "2  POINT (-122.54729 47.42602)                        PUGET SOUND ENERGY INC   \n",
       "3  POINT (-122.81585 47.64509)                        PUGET SOUND ENERGY INC   \n",
       "4  POINT (-122.68993 46.88897)                        PUGET SOUND ENERGY INC   \n",
       "\n",
       "   2020 Census Tract  \n",
       "0       5.303301e+10  \n",
       "1       5.303509e+10  \n",
       "2       5.303509e+10  \n",
       "3       5.303509e+10  \n",
       "4       5.306701e+10  "
      ]
     },
     "execution_count": 16,
     "metadata": {},
     "output_type": "execute_result"
    }
   ],
   "source": [
    "# ----------------------------------------------------------------------------\n",
    "# 🧪 Load Sample Dataset (Titanic from Seaborn)\n",
    "# ----------------------------------------------------------------------------\n",
    "import seaborn as sns\n",
    "import pandas as pd\n",
    "\n",
    "try:\n",
    "    # df = pd.read_csv(\"query_export_results_latest.csv\")\n",
    "    df = pd.read_csv(\"Electric_Vehicle_Population_Data.csv\")\n",
    "except FileNotFoundError:\n",
    "    # df = sns.load_dataset(\"titanic\")\n",
    "    df = sns.load_dataset(\"penguins\")\n",
    "\n",
    "df.head()"
   ]
  },
  {
   "cell_type": "code",
   "execution_count": 12,
   "id": "89162076",
   "metadata": {},
   "outputs": [
    {
     "name": "stdout",
     "output_type": "stream",
     "text": [
      "The autoreload extension is already loaded. To reload it, use:\n",
      "  %reload_ext autoreload\n"
     ]
    }
   ],
   "source": [
    "# ----------------------------------------------------------------------------\n",
    "# 🔁 Autoreload Extension Setup\n",
    "# ----------------------------------------------------------------------------\n",
    "%load_ext autoreload\n",
    "# Automatically reload all modules before executing cells\n",
    "%autoreload 2  "
   ]
  },
  {
   "cell_type": "code",
   "execution_count": 17,
   "id": "8d88a4bb",
   "metadata": {},
   "outputs": [],
   "source": [
    "# ----------------------------------------------------------------------------\n",
    "# 📦 Import Local Library Modules\n",
    "# ----------------------------------------------------------------------------\n",
    "import jcds.eda as jeda\n",
    "import jcds.reports as jrep"
   ]
  },
  {
   "cell_type": "code",
   "execution_count": 25,
   "id": "3d06f165",
   "metadata": {},
   "outputs": [
    {
     "name": "stdout",
     "output_type": "stream",
     "text": [
      "DATA QUALITY REPORT\n",
      "====================\n",
      "\n",
      " * Total entries (rows * cols): 4006764\n",
      " * Memory usage: 183.8 MB\n",
      " * Rows: 235692\n",
      " * Columns: 17\n",
      "\n",
      "MISSING DATA:\n",
      " * Total entries: 591 missing (0.0%)\n",
      "\n",
      "ROWS:\n",
      "----------\n",
      " * Rows missing any: 537\n",
      " * Rows missing all: 0\n",
      "\n",
      "DUPLICATES: 0\n",
      "\n",
      "COLUMNS:\n",
      "----------------\n",
      "Columns missing any: 9\n",
      "\t'Legislative District': 494 missing (0.2%)\n",
      "\t'Electric Range': 36 missing (0.0%)\n",
      "\t'Base MSRP': 36 missing (0.0%)\n",
      "\t'Vehicle Location': 10 missing (0.0%)\n",
      "\t'County': 3 missing (0.0%)\n",
      "\t'City': 3 missing (0.0%)\n",
      "\t'Postal Code': 3 missing (0.0%)\n",
      "\t'Electric Utility': 3 missing (0.0%)\n",
      "\t'2020 Census Tract': 3 missing (0.0%)\n",
      "Column list: ['Legislative District', 'Electric Range', 'Base MSRP', 'Vehicle Location', 'County', 'City', 'Postal Code', 'Electric Utility', '2020 Census Tract']\n",
      "\n",
      "CONSTANT: 0\n",
      "\n",
      "NEAR CONSTANT: 2\n",
      "\t(95% of values are the same)\n",
      "\tColumn list: ['State', 'Base MSRP']\n",
      "\n",
      "MIXED DATATYPES: 4\n",
      "\tColumn list: ['County', 'City', 'Vehicle Location', 'Electric Utility']\n",
      "\n",
      "HIGH CARDINALITY: 0\n",
      "\t(60% >= unique values)\n"
     ]
    }
   ],
   "source": [
    "# ----------------------------------------------------------------------------\n",
    "# 🚀 Run Function to Test Live Edits\n",
    "# ----------------------------------------------------------------------------\n",
    "# Edit your jcds functions and save the .py file. Then re-run this cell.\n",
    "\n",
    "jrep.data_quality(\n",
    "    df, show_columns=True\n",
    ")  # Replace or duplicate this cell for any function you want to test."
   ]
  },
  {
   "cell_type": "code",
   "execution_count": 15,
   "id": "ff97b58a",
   "metadata": {},
   "outputs": [
    {
     "name": "stdout",
     "output_type": "stream",
     "text": [
      "\n",
      "SHAPE:\n",
      "There are 399 rows and 33 columns (0.44 MB).\n",
      "\n",
      "DUPLICATES:\n",
      "There are 0 duplicated rows.\n",
      "\n",
      "COLUMNS/VARIABLES:\n",
      "Column dType Summary:\n",
      " * object: 17\n",
      " * int: 16\n",
      "There are 16 numerical (int/float/bool) variables.\n",
      "There are 17 categorical (nominal/ordinal) variables.\n",
      "\n",
      "DATETIME COLUMNS:\n",
      "There are 0 datetime variables and 0 possible datetime variables.\n",
      "\n",
      "OTHER COLUMN/VARIABLE INFO:\n",
      "ID Like Columns (threshold = 95.0%): 0\n",
      "Columns with mixed datatypes: 0\n"
     ]
    }
   ],
   "source": [
    "jrep.data_info(df)"
   ]
  },
  {
   "cell_type": "code",
   "execution_count": 20,
   "id": "5d0f8041",
   "metadata": {},
   "outputs": [
    {
     "name": "stdout",
     "output_type": "stream",
     "text": [
      "CARDINALITY REPORT\n",
      "\n",
      "Total columns analyzed: 17\n",
      "\n",
      "[BINARY COLUMNS]\n",
      "There are 1 binary columns.\n",
      " * Columns: ['Electric Vehicle Type']\n",
      "There are 0 binary with nan.\n",
      "\n",
      "[CONSTANT/NEAR CONSTANT COLUMNS]\n",
      "There are 0 constant columns.\n",
      "There are 2 near-constant columns with >= 95% of values being the same.\n",
      " * Columns: ['State', 'Base MSRP']\n",
      "\n",
      "[LOW CARDINALITY CATEGORICAL COLUMNS]\n",
      " * There are 2 low cardinality columns with <= 10 unique values.\n",
      "Columns:\n",
      " * Electric Vehicle Type: 2 unique values\n",
      " * Clean Alternative Fuel Vehicle (CAFV) Eligibility: 3 unique values\n",
      "\n",
      "[HIGH CARDINALITY CATEGORICAL COLUMNS]\n",
      " * There are 0 high cardinality variables with >=90% unique values.\n"
     ]
    }
   ],
   "source": [
    "jrep.data_cardinality(df, show_columns=True)"
   ]
  }
 ],
 "metadata": {
  "kernelspec": {
   "display_name": "jcds-dev",
   "language": "python",
   "name": "python3"
  },
  "language_info": {
   "codemirror_mode": {
    "name": "ipython",
    "version": 3
   },
   "file_extension": ".py",
   "mimetype": "text/x-python",
   "name": "python",
   "nbconvert_exporter": "python",
   "pygments_lexer": "ipython3",
   "version": "3.10.16"
  }
 },
 "nbformat": 4,
 "nbformat_minor": 5
}
