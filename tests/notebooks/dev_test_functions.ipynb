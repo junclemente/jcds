{
 "cells": [
  {
   "cell_type": "code",
   "execution_count": 1,
   "id": "db584c89",
   "metadata": {},
   "outputs": [],
   "source": [
    "# 📓 JCDS Live Function Testing Notebook\n",
    "# File: tests/notebooks/dev_test_functions.ipynb"
   ]
  },
  {
   "cell_type": "code",
   "execution_count": 2,
   "id": "00e3d1c2",
   "metadata": {},
   "outputs": [],
   "source": [
    "# ----------------------------------------------------------------------------\n",
    "# 🧼 Notes\n",
    "# ----------------------------------------------------------------------------\n",
    "# - This notebook uses `%autoreload 2` to automatically reload all updated modules.\n",
    "# - You can call any function from your library here to test live edits.\n",
    "# - This notebook lives in tests/notebooks/ for organized dev use.\n",
    "# - You can copy this structure for testing other modules as needed."
   ]
  },
  {
   "cell_type": "code",
   "execution_count": 3,
   "id": "7b567f77",
   "metadata": {},
   "outputs": [
    {
     "data": {
      "application/vnd.microsoft.datawrangler.viewer.v0+json": {
       "columns": [
        {
         "name": "index",
         "rawType": "int64",
         "type": "integer"
        },
        {
         "name": "survived",
         "rawType": "int64",
         "type": "integer"
        },
        {
         "name": "pclass",
         "rawType": "int64",
         "type": "integer"
        },
        {
         "name": "sex",
         "rawType": "object",
         "type": "string"
        },
        {
         "name": "age",
         "rawType": "float64",
         "type": "float"
        },
        {
         "name": "sibsp",
         "rawType": "int64",
         "type": "integer"
        },
        {
         "name": "parch",
         "rawType": "int64",
         "type": "integer"
        },
        {
         "name": "fare",
         "rawType": "float64",
         "type": "float"
        },
        {
         "name": "embarked",
         "rawType": "object",
         "type": "string"
        },
        {
         "name": "class",
         "rawType": "category",
         "type": "unknown"
        },
        {
         "name": "who",
         "rawType": "object",
         "type": "string"
        },
        {
         "name": "adult_male",
         "rawType": "bool",
         "type": "boolean"
        },
        {
         "name": "deck",
         "rawType": "category",
         "type": "unknown"
        },
        {
         "name": "embark_town",
         "rawType": "object",
         "type": "string"
        },
        {
         "name": "alive",
         "rawType": "object",
         "type": "string"
        },
        {
         "name": "alone",
         "rawType": "bool",
         "type": "boolean"
        }
       ],
       "conversionMethod": "pd.DataFrame",
       "ref": "e20559f1-b568-4038-99b2-55437c9d154c",
       "rows": [
        [
         "0",
         "0",
         "3",
         "male",
         "22.0",
         "1",
         "0",
         "7.25",
         "S",
         "Third",
         "man",
         "True",
         null,
         "Southampton",
         "no",
         "False"
        ],
        [
         "1",
         "1",
         "1",
         "female",
         "38.0",
         "1",
         "0",
         "71.2833",
         "C",
         "First",
         "woman",
         "False",
         "C",
         "Cherbourg",
         "yes",
         "False"
        ],
        [
         "2",
         "1",
         "3",
         "female",
         "26.0",
         "0",
         "0",
         "7.925",
         "S",
         "Third",
         "woman",
         "False",
         null,
         "Southampton",
         "yes",
         "True"
        ],
        [
         "3",
         "1",
         "1",
         "female",
         "35.0",
         "1",
         "0",
         "53.1",
         "S",
         "First",
         "woman",
         "False",
         "C",
         "Southampton",
         "yes",
         "False"
        ],
        [
         "4",
         "0",
         "3",
         "male",
         "35.0",
         "0",
         "0",
         "8.05",
         "S",
         "Third",
         "man",
         "True",
         null,
         "Southampton",
         "no",
         "True"
        ]
       ],
       "shape": {
        "columns": 15,
        "rows": 5
       }
      },
      "text/html": [
       "<div>\n",
       "<style scoped>\n",
       "    .dataframe tbody tr th:only-of-type {\n",
       "        vertical-align: middle;\n",
       "    }\n",
       "\n",
       "    .dataframe tbody tr th {\n",
       "        vertical-align: top;\n",
       "    }\n",
       "\n",
       "    .dataframe thead th {\n",
       "        text-align: right;\n",
       "    }\n",
       "</style>\n",
       "<table border=\"1\" class=\"dataframe\">\n",
       "  <thead>\n",
       "    <tr style=\"text-align: right;\">\n",
       "      <th></th>\n",
       "      <th>survived</th>\n",
       "      <th>pclass</th>\n",
       "      <th>sex</th>\n",
       "      <th>age</th>\n",
       "      <th>sibsp</th>\n",
       "      <th>parch</th>\n",
       "      <th>fare</th>\n",
       "      <th>embarked</th>\n",
       "      <th>class</th>\n",
       "      <th>who</th>\n",
       "      <th>adult_male</th>\n",
       "      <th>deck</th>\n",
       "      <th>embark_town</th>\n",
       "      <th>alive</th>\n",
       "      <th>alone</th>\n",
       "    </tr>\n",
       "  </thead>\n",
       "  <tbody>\n",
       "    <tr>\n",
       "      <th>0</th>\n",
       "      <td>0</td>\n",
       "      <td>3</td>\n",
       "      <td>male</td>\n",
       "      <td>22.0</td>\n",
       "      <td>1</td>\n",
       "      <td>0</td>\n",
       "      <td>7.2500</td>\n",
       "      <td>S</td>\n",
       "      <td>Third</td>\n",
       "      <td>man</td>\n",
       "      <td>True</td>\n",
       "      <td>NaN</td>\n",
       "      <td>Southampton</td>\n",
       "      <td>no</td>\n",
       "      <td>False</td>\n",
       "    </tr>\n",
       "    <tr>\n",
       "      <th>1</th>\n",
       "      <td>1</td>\n",
       "      <td>1</td>\n",
       "      <td>female</td>\n",
       "      <td>38.0</td>\n",
       "      <td>1</td>\n",
       "      <td>0</td>\n",
       "      <td>71.2833</td>\n",
       "      <td>C</td>\n",
       "      <td>First</td>\n",
       "      <td>woman</td>\n",
       "      <td>False</td>\n",
       "      <td>C</td>\n",
       "      <td>Cherbourg</td>\n",
       "      <td>yes</td>\n",
       "      <td>False</td>\n",
       "    </tr>\n",
       "    <tr>\n",
       "      <th>2</th>\n",
       "      <td>1</td>\n",
       "      <td>3</td>\n",
       "      <td>female</td>\n",
       "      <td>26.0</td>\n",
       "      <td>0</td>\n",
       "      <td>0</td>\n",
       "      <td>7.9250</td>\n",
       "      <td>S</td>\n",
       "      <td>Third</td>\n",
       "      <td>woman</td>\n",
       "      <td>False</td>\n",
       "      <td>NaN</td>\n",
       "      <td>Southampton</td>\n",
       "      <td>yes</td>\n",
       "      <td>True</td>\n",
       "    </tr>\n",
       "    <tr>\n",
       "      <th>3</th>\n",
       "      <td>1</td>\n",
       "      <td>1</td>\n",
       "      <td>female</td>\n",
       "      <td>35.0</td>\n",
       "      <td>1</td>\n",
       "      <td>0</td>\n",
       "      <td>53.1000</td>\n",
       "      <td>S</td>\n",
       "      <td>First</td>\n",
       "      <td>woman</td>\n",
       "      <td>False</td>\n",
       "      <td>C</td>\n",
       "      <td>Southampton</td>\n",
       "      <td>yes</td>\n",
       "      <td>False</td>\n",
       "    </tr>\n",
       "    <tr>\n",
       "      <th>4</th>\n",
       "      <td>0</td>\n",
       "      <td>3</td>\n",
       "      <td>male</td>\n",
       "      <td>35.0</td>\n",
       "      <td>0</td>\n",
       "      <td>0</td>\n",
       "      <td>8.0500</td>\n",
       "      <td>S</td>\n",
       "      <td>Third</td>\n",
       "      <td>man</td>\n",
       "      <td>True</td>\n",
       "      <td>NaN</td>\n",
       "      <td>Southampton</td>\n",
       "      <td>no</td>\n",
       "      <td>True</td>\n",
       "    </tr>\n",
       "  </tbody>\n",
       "</table>\n",
       "</div>"
      ],
      "text/plain": [
       "   survived  pclass     sex   age  sibsp  parch     fare embarked  class  \\\n",
       "0         0       3    male  22.0      1      0   7.2500        S  Third   \n",
       "1         1       1  female  38.0      1      0  71.2833        C  First   \n",
       "2         1       3  female  26.0      0      0   7.9250        S  Third   \n",
       "3         1       1  female  35.0      1      0  53.1000        S  First   \n",
       "4         0       3    male  35.0      0      0   8.0500        S  Third   \n",
       "\n",
       "     who  adult_male deck  embark_town alive  alone  \n",
       "0    man        True  NaN  Southampton    no  False  \n",
       "1  woman       False    C    Cherbourg   yes  False  \n",
       "2  woman       False  NaN  Southampton   yes   True  \n",
       "3  woman       False    C  Southampton   yes  False  \n",
       "4    man        True  NaN  Southampton    no   True  "
      ]
     },
     "execution_count": 3,
     "metadata": {},
     "output_type": "execute_result"
    }
   ],
   "source": [
    "# ----------------------------------------------------------------------------\n",
    "# 🧪 Load Sample Dataset (Titanic from Seaborn)\n",
    "# ----------------------------------------------------------------------------\n",
    "import seaborn as sns\n",
    "import pandas as pd\n",
    "\n",
    "df = sns.load_dataset(\"titanic\")\n",
    "df.head()"
   ]
  },
  {
   "cell_type": "code",
   "execution_count": 4,
   "id": "89162076",
   "metadata": {},
   "outputs": [],
   "source": [
    "# ----------------------------------------------------------------------------\n",
    "# 🔁 Autoreload Extension Setup\n",
    "# ----------------------------------------------------------------------------\n",
    "%load_ext autoreload\n",
    "# Automatically reload all modules before executing cells\n",
    "%autoreload 2  "
   ]
  },
  {
   "cell_type": "code",
   "execution_count": 5,
   "id": "8d88a4bb",
   "metadata": {},
   "outputs": [],
   "source": [
    "# ----------------------------------------------------------------------------\n",
    "# 📦 Import Local Library Modules\n",
    "# ----------------------------------------------------------------------------\n",
    "import jcds.eda as jeda\n",
    "import jcds.reports as jrep"
   ]
  },
  {
   "cell_type": "code",
   "execution_count": 52,
   "id": "3d06f165",
   "metadata": {},
   "outputs": [
    {
     "name": "stdout",
     "output_type": "stream",
     "text": [
      "CARDINALITY REPORT\n",
      "\n",
      "Total columns analyzed: 15\n",
      "\n",
      "[BINARY COLUMNS]\n",
      "There are 5 binary columns.\n",
      " * Columns: ['survived', 'sex', 'adult_male', 'alive', 'alone']\n",
      "There are 0 binary with nan.\n",
      "\n",
      "[CONSTANT/NEAR CONSTANT COLUMNS]\n",
      "There are 0 constant columns.\n",
      "There are 0 near-constant columns with >= 95% of values being the same.\n",
      "\n",
      "LOW CARDINALITY CATEGORICAL COLUMNS]\n",
      " * There are 7 low cardinality columns with <= 10 unique values.\n",
      "Columns:\n",
      " * sex: 2 unique values\n",
      " * embarked: 3 unique values\n",
      " * class: 3 unique values\n",
      " * who: 3 unique values\n",
      " * deck: 7 unique values\n",
      " * embark_town: 3 unique values\n",
      " * alive: 2 unique values\n",
      "\n",
      "[HIGH CARDINALITY CATEGORICAL COLUMNS]\n",
      " * There are 0 high cardinality variables with >=90% unique values.\n"
     ]
    }
   ],
   "source": [
    "# ----------------------------------------------------------------------------\n",
    "# 🚀 Run Function to Test Live Edits\n",
    "# ----------------------------------------------------------------------------\n",
    "# Edit your jcds functions and save the .py file. Then re-run this cell.\n",
    "\n",
    "jrep.data_cardinality(\n",
    "    df, show_columns=True\n",
    ")  # Replace or duplicate this cell for any function you want to test."
   ]
  },
  {
   "cell_type": "code",
   "execution_count": 51,
   "id": "61587f26",
   "metadata": {},
   "outputs": [
    {
     "name": "stdout",
     "output_type": "stream",
     "text": [
      "CARDINALITY REPORT\n",
      "\n",
      "-- BINARY COLUMNS --\n",
      "There are 5 binary columns.\n",
      " • Columns: ['survived', 'sex', 'adult_male', 'alive', 'alone']\n",
      "There are 0 binary with nan.\n",
      "\n",
      "-- CONSTANT VARIABLES --\n",
      "There are 0 constant columns.\n",
      "\n",
      "-- LOW CARDINALITY CATEGORICAL --\n",
      "Found 7 categorical variables with ≤ 10 unique values.\n",
      " • sex: 2 unique values\n",
      " • embarked: 3 unique values\n",
      " • class: 3 unique values\n",
      " • who: 3 unique values\n",
      " • deck: 7 unique values\n",
      " • embark_town: 3 unique values\n",
      " • alive: 2 unique values\n",
      "\n",
      "-- HIGH CARDINALITY CATEGORICAL --\n",
      "Found 0 categorical variables with ≥ 90% unique values.\n"
     ]
    }
   ],
   "source": [
    "jrep.data_card2(df, show_columns=True)"
   ]
  },
  {
   "cell_type": "code",
   "execution_count": 25,
   "id": "3177a8c6",
   "metadata": {},
   "outputs": [
    {
     "name": "stdout",
     "output_type": "stream",
     "text": [
      "\n",
      "SHAPE:\n",
      "There are 891 rows and 15 columns (0.31 MB).\n",
      "\n",
      "DUPLICATES:\n",
      "There are 107 duplicated rows.\n",
      "\n",
      "COLUMNS/VARIABLES:\n",
      "Column dType Summary:\n",
      " * object: 5\n",
      " * int: 4\n",
      " * float: 2\n",
      " * bool: 2\n",
      " * category: 2\n",
      "There are 8 numerical (int/float/bool) variables.\n",
      " * Columns: ['survived', 'pclass', 'age', 'sibsp', 'parch', 'fare', 'adult_male', 'alone']\n",
      "There are 7 categorical (nominal/ordinal) variables.\n",
      " * Columns: ['sex', 'embarked', 'class', 'who', 'deck', 'embark_town', 'alive']\n",
      "\n",
      "DATETIME COLUMNS:\n",
      "There are 0 datetime variables and 0 possible datetime variables.\n",
      "\n",
      "OTHER COLUMN/VARIABLE INFO:\n",
      "ID Like Columns (threshold = 95.0%): 0\n",
      "Columns with mixed datatypes: 3\n",
      " * Columns: ['embarked', 'deck', 'embark_town']\n"
     ]
    }
   ],
   "source": [
    "jrep.data_info(df, show_columns=True)"
   ]
  },
  {
   "cell_type": "code",
   "execution_count": null,
   "id": "a25eba82",
   "metadata": {},
   "outputs": [],
   "source": []
  }
 ],
 "metadata": {
  "kernelspec": {
   "display_name": "jcds-dev",
   "language": "python",
   "name": "python3"
  },
  "language_info": {
   "codemirror_mode": {
    "name": "ipython",
    "version": 3
   },
   "file_extension": ".py",
   "mimetype": "text/x-python",
   "name": "python",
   "nbconvert_exporter": "python",
   "pygments_lexer": "ipython3",
   "version": "3.10.16"
  }
 },
 "nbformat": 4,
 "nbformat_minor": 5
}
