{
 "cells": [
  {
   "cell_type": "code",
   "execution_count": 16,
   "id": "db584c89",
   "metadata": {},
   "outputs": [],
   "source": [
    "# 📓 JCDS Live Function Testing Notebook\n",
    "# File: tests/notebooks/dev_test_functions.ipynb"
   ]
  },
  {
   "cell_type": "code",
   "execution_count": 17,
   "id": "00e3d1c2",
   "metadata": {},
   "outputs": [],
   "source": [
    "# ----------------------------------------------------------------------------\n",
    "# 🧼 Notes\n",
    "# ----------------------------------------------------------------------------\n",
    "# - This notebook uses `%autoreload 2` to automatically reload all updated modules.\n",
    "# - You can call any function from your library here to test live edits.\n",
    "# - This notebook lives in tests/notebooks/ for organized dev use.\n",
    "# - You can copy this structure for testing other modules as needed."
   ]
  },
  {
   "cell_type": "code",
   "execution_count": 18,
   "id": "7b567f77",
   "metadata": {},
   "outputs": [
    {
     "data": {
      "application/vnd.microsoft.datawrangler.viewer.v0+json": {
       "columns": [
        {
         "name": "index",
         "rawType": "int64",
         "type": "integer"
        },
        {
         "name": "PR ID",
         "rawType": "int64",
         "type": "integer"
        },
        {
         "name": "Date Opened",
         "rawType": "object",
         "type": "string"
        },
        {
         "name": "Date Due",
         "rawType": "object",
         "type": "string"
        },
        {
         "name": "Date Closed",
         "rawType": "object",
         "type": "string"
        },
        {
         "name": "Extended Date Due",
         "rawType": "object",
         "type": "string"
        },
        {
         "name": "Originator",
         "rawType": "object",
         "type": "string"
        },
        {
         "name": "QA Owner",
         "rawType": "object",
         "type": "string"
        },
        {
         "name": "Assigned To",
         "rawType": "object",
         "type": "string"
        },
        {
         "name": "Project",
         "rawType": "object",
         "type": "string"
        },
        {
         "name": "Where Issue Occurred",
         "rawType": "object",
         "type": "unknown"
        },
        {
         "name": "Short Description",
         "rawType": "object",
         "type": "string"
        },
        {
         "name": "What Is The Issue",
         "rawType": "object",
         "type": "unknown"
        },
        {
         "name": "Invest Summary and Root Cause",
         "rawType": "object",
         "type": "unknown"
        },
        {
         "name": "Site Found/Mfg",
         "rawType": "object",
         "type": "unknown"
        },
        {
         "name": "Division",
         "rawType": "object",
         "type": "string"
        },
        {
         "name": "SKU No - Complaint",
         "rawType": "object",
         "type": "unknown"
        },
        {
         "name": "ERP Complaint No",
         "rawType": "float64",
         "type": "float"
        },
        {
         "name": "Regulatory Code - Complaint",
         "rawType": "object",
         "type": "unknown"
        },
        {
         "name": "Regulated Product",
         "rawType": "object",
         "type": "unknown"
        },
        {
         "name": "Sites Affected - Notification",
         "rawType": "object",
         "type": "unknown"
        },
        {
         "name": "Defect Code",
         "rawType": "object",
         "type": "unknown"
        },
        {
         "name": "Defect Description",
         "rawType": "object",
         "type": "unknown"
        },
        {
         "name": "SKU Description - Complaint",
         "rawType": "object",
         "type": "unknown"
        },
        {
         "name": "Lot - Complaint",
         "rawType": "object",
         "type": "unknown"
        },
        {
         "name": "Quantity Shipped - Complaint",
         "rawType": "object",
         "type": "unknown"
        },
        {
         "name": "Order No",
         "rawType": "object",
         "type": "unknown"
        },
        {
         "name": "ERP Originator",
         "rawType": "object",
         "type": "unknown"
        },
        {
         "name": "DI - Complaint",
         "rawType": "object",
         "type": "unknown"
        },
        {
         "name": "PI - Complaint",
         "rawType": "object",
         "type": "unknown"
        },
        {
         "name": "Caller Name",
         "rawType": "object",
         "type": "unknown"
        },
        {
         "name": "Caller Email",
         "rawType": "object",
         "type": "unknown"
        },
        {
         "name": "Caller Phone No",
         "rawType": "object",
         "type": "unknown"
        },
        {
         "name": "Customer Number",
         "rawType": "object",
         "type": "unknown"
        },
        {
         "name": "Customer Name",
         "rawType": "object",
         "type": "unknown"
        }
       ],
       "conversionMethod": "pd.DataFrame",
       "ref": "38fafdeb-c1c9-4fc5-bf4c-2140d14c76cc",
       "rows": [
        [
         "0",
         "425906",
         "4/2/2020 11:02",
         "29-May-20",
         "5/30/2020 13:21",
         "29-May-20",
         "Jones, Rafell",
         "Jones, Rafell",
         "Allen, Robbie",
         "Corrective Action",
         null,
         "Internal-Communications; customer related processes-feedback/improvements/complaints",
         null,
         null,
         null,
         "~San Diego",
         null,
         null,
         null,
         null,
         null,
         null,
         null,
         null,
         null,
         null,
         null,
         null,
         null,
         null,
         null,
         null,
         null,
         null,
         null
        ],
        [
         "1",
         "425928",
         "4/2/2020 12:48",
         "29-May-20",
         "9/9/2020 8:05",
         "29-May-20",
         "Jones, Rafell",
         "Jones, Rafell",
         "Johnson, Presley",
         "Corrective Action",
         null,
         "Building / Work Environmental and Contamination Control",
         null,
         null,
         null,
         "~San Diego",
         null,
         null,
         null,
         null,
         null,
         null,
         null,
         null,
         null,
         null,
         null,
         null,
         null,
         null,
         null,
         null,
         null,
         null,
         null
        ],
        [
         "2",
         "425936",
         "4/2/2020 13:29",
         "1-Jun-20",
         "5/22/2020 9:45",
         "1-Jun-20",
         "Zaluskey, Laura",
         "Zaluskey, Laura",
         "Molinero, Juan",
         "Corrective Action",
         null,
         "CC - SuperBright filling issue",
         null,
         null,
         null,
         "Carlsbad",
         null,
         null,
         null,
         null,
         null,
         null,
         null,
         null,
         null,
         null,
         null,
         null,
         null,
         null,
         null,
         null,
         null,
         null,
         null
        ],
        [
         "3",
         "426191",
         "4/3/2020 19:20",
         "26-Jun-20",
         "10/21/2020 13:12",
         "30-Oct-20",
         "Jones, Rafell",
         "Jones, Rafell",
         "Johnson, Presley",
         "Corrective Action",
         null,
         "Building / Work Environmental and Contamination Control",
         null,
         null,
         null,
         "~San Diego",
         null,
         null,
         null,
         null,
         null,
         null,
         null,
         null,
         null,
         null,
         null,
         null,
         null,
         null,
         null,
         null,
         null,
         null,
         null
        ],
        [
         "4",
         "426192",
         "4/3/2020 19:24",
         "26-Jun-20",
         "7/13/2020 16:14",
         "26-Jun-20",
         "Jones, Rafell",
         "Jones, Rafell",
         "Johnson, Presley",
         "Corrective Action",
         null,
         "Building / Work Environmental and Contamination Control",
         null,
         null,
         null,
         "~San Diego",
         null,
         null,
         null,
         null,
         null,
         null,
         null,
         null,
         null,
         null,
         null,
         null,
         null,
         null,
         null,
         null,
         null,
         null,
         null
        ]
       ],
       "shape": {
        "columns": 34,
        "rows": 5
       }
      },
      "text/html": [
       "<div>\n",
       "<style scoped>\n",
       "    .dataframe tbody tr th:only-of-type {\n",
       "        vertical-align: middle;\n",
       "    }\n",
       "\n",
       "    .dataframe tbody tr th {\n",
       "        vertical-align: top;\n",
       "    }\n",
       "\n",
       "    .dataframe thead th {\n",
       "        text-align: right;\n",
       "    }\n",
       "</style>\n",
       "<table border=\"1\" class=\"dataframe\">\n",
       "  <thead>\n",
       "    <tr style=\"text-align: right;\">\n",
       "      <th></th>\n",
       "      <th>PR ID</th>\n",
       "      <th>Date Opened</th>\n",
       "      <th>Date Due</th>\n",
       "      <th>Date Closed</th>\n",
       "      <th>Extended Date Due</th>\n",
       "      <th>Originator</th>\n",
       "      <th>QA Owner</th>\n",
       "      <th>Assigned To</th>\n",
       "      <th>Project</th>\n",
       "      <th>Where Issue Occurred</th>\n",
       "      <th>...</th>\n",
       "      <th>Quantity Shipped - Complaint</th>\n",
       "      <th>Order No</th>\n",
       "      <th>ERP Originator</th>\n",
       "      <th>DI - Complaint</th>\n",
       "      <th>PI - Complaint</th>\n",
       "      <th>Caller Name</th>\n",
       "      <th>Caller Email</th>\n",
       "      <th>Caller Phone No</th>\n",
       "      <th>Customer Number</th>\n",
       "      <th>Customer Name</th>\n",
       "    </tr>\n",
       "  </thead>\n",
       "  <tbody>\n",
       "    <tr>\n",
       "      <th>0</th>\n",
       "      <td>425906</td>\n",
       "      <td>4/2/2020 11:02</td>\n",
       "      <td>29-May-20</td>\n",
       "      <td>5/30/2020 13:21</td>\n",
       "      <td>29-May-20</td>\n",
       "      <td>Jones, Rafell</td>\n",
       "      <td>Jones, Rafell</td>\n",
       "      <td>Allen, Robbie</td>\n",
       "      <td>Corrective Action</td>\n",
       "      <td>NaN</td>\n",
       "      <td>...</td>\n",
       "      <td>NaN</td>\n",
       "      <td>NaN</td>\n",
       "      <td>NaN</td>\n",
       "      <td>NaN</td>\n",
       "      <td>NaN</td>\n",
       "      <td>NaN</td>\n",
       "      <td>NaN</td>\n",
       "      <td>NaN</td>\n",
       "      <td>NaN</td>\n",
       "      <td>NaN</td>\n",
       "    </tr>\n",
       "    <tr>\n",
       "      <th>1</th>\n",
       "      <td>425928</td>\n",
       "      <td>4/2/2020 12:48</td>\n",
       "      <td>29-May-20</td>\n",
       "      <td>9/9/2020 8:05</td>\n",
       "      <td>29-May-20</td>\n",
       "      <td>Jones, Rafell</td>\n",
       "      <td>Jones, Rafell</td>\n",
       "      <td>Johnson, Presley</td>\n",
       "      <td>Corrective Action</td>\n",
       "      <td>NaN</td>\n",
       "      <td>...</td>\n",
       "      <td>NaN</td>\n",
       "      <td>NaN</td>\n",
       "      <td>NaN</td>\n",
       "      <td>NaN</td>\n",
       "      <td>NaN</td>\n",
       "      <td>NaN</td>\n",
       "      <td>NaN</td>\n",
       "      <td>NaN</td>\n",
       "      <td>NaN</td>\n",
       "      <td>NaN</td>\n",
       "    </tr>\n",
       "    <tr>\n",
       "      <th>2</th>\n",
       "      <td>425936</td>\n",
       "      <td>4/2/2020 13:29</td>\n",
       "      <td>1-Jun-20</td>\n",
       "      <td>5/22/2020 9:45</td>\n",
       "      <td>1-Jun-20</td>\n",
       "      <td>Zaluskey, Laura</td>\n",
       "      <td>Zaluskey, Laura</td>\n",
       "      <td>Molinero, Juan</td>\n",
       "      <td>Corrective Action</td>\n",
       "      <td>NaN</td>\n",
       "      <td>...</td>\n",
       "      <td>NaN</td>\n",
       "      <td>NaN</td>\n",
       "      <td>NaN</td>\n",
       "      <td>NaN</td>\n",
       "      <td>NaN</td>\n",
       "      <td>NaN</td>\n",
       "      <td>NaN</td>\n",
       "      <td>NaN</td>\n",
       "      <td>NaN</td>\n",
       "      <td>NaN</td>\n",
       "    </tr>\n",
       "    <tr>\n",
       "      <th>3</th>\n",
       "      <td>426191</td>\n",
       "      <td>4/3/2020 19:20</td>\n",
       "      <td>26-Jun-20</td>\n",
       "      <td>10/21/2020 13:12</td>\n",
       "      <td>30-Oct-20</td>\n",
       "      <td>Jones, Rafell</td>\n",
       "      <td>Jones, Rafell</td>\n",
       "      <td>Johnson, Presley</td>\n",
       "      <td>Corrective Action</td>\n",
       "      <td>NaN</td>\n",
       "      <td>...</td>\n",
       "      <td>NaN</td>\n",
       "      <td>NaN</td>\n",
       "      <td>NaN</td>\n",
       "      <td>NaN</td>\n",
       "      <td>NaN</td>\n",
       "      <td>NaN</td>\n",
       "      <td>NaN</td>\n",
       "      <td>NaN</td>\n",
       "      <td>NaN</td>\n",
       "      <td>NaN</td>\n",
       "    </tr>\n",
       "    <tr>\n",
       "      <th>4</th>\n",
       "      <td>426192</td>\n",
       "      <td>4/3/2020 19:24</td>\n",
       "      <td>26-Jun-20</td>\n",
       "      <td>7/13/2020 16:14</td>\n",
       "      <td>26-Jun-20</td>\n",
       "      <td>Jones, Rafell</td>\n",
       "      <td>Jones, Rafell</td>\n",
       "      <td>Johnson, Presley</td>\n",
       "      <td>Corrective Action</td>\n",
       "      <td>NaN</td>\n",
       "      <td>...</td>\n",
       "      <td>NaN</td>\n",
       "      <td>NaN</td>\n",
       "      <td>NaN</td>\n",
       "      <td>NaN</td>\n",
       "      <td>NaN</td>\n",
       "      <td>NaN</td>\n",
       "      <td>NaN</td>\n",
       "      <td>NaN</td>\n",
       "      <td>NaN</td>\n",
       "      <td>NaN</td>\n",
       "    </tr>\n",
       "  </tbody>\n",
       "</table>\n",
       "<p>5 rows × 34 columns</p>\n",
       "</div>"
      ],
      "text/plain": [
       "    PR ID     Date Opened   Date Due       Date Closed Extended Date Due  \\\n",
       "0  425906  4/2/2020 11:02  29-May-20   5/30/2020 13:21         29-May-20   \n",
       "1  425928  4/2/2020 12:48  29-May-20     9/9/2020 8:05         29-May-20   \n",
       "2  425936  4/2/2020 13:29   1-Jun-20    5/22/2020 9:45          1-Jun-20   \n",
       "3  426191  4/3/2020 19:20  26-Jun-20  10/21/2020 13:12         30-Oct-20   \n",
       "4  426192  4/3/2020 19:24  26-Jun-20   7/13/2020 16:14         26-Jun-20   \n",
       "\n",
       "        Originator         QA Owner       Assigned To            Project  \\\n",
       "0    Jones, Rafell    Jones, Rafell     Allen, Robbie  Corrective Action   \n",
       "1    Jones, Rafell    Jones, Rafell  Johnson, Presley  Corrective Action   \n",
       "2  Zaluskey, Laura  Zaluskey, Laura    Molinero, Juan  Corrective Action   \n",
       "3    Jones, Rafell    Jones, Rafell  Johnson, Presley  Corrective Action   \n",
       "4    Jones, Rafell    Jones, Rafell  Johnson, Presley  Corrective Action   \n",
       "\n",
       "  Where Issue Occurred  ... Quantity Shipped - Complaint Order No  \\\n",
       "0                  NaN  ...                          NaN      NaN   \n",
       "1                  NaN  ...                          NaN      NaN   \n",
       "2                  NaN  ...                          NaN      NaN   \n",
       "3                  NaN  ...                          NaN      NaN   \n",
       "4                  NaN  ...                          NaN      NaN   \n",
       "\n",
       "  ERP Originator DI - Complaint PI - Complaint Caller Name  Caller Email  \\\n",
       "0            NaN            NaN            NaN         NaN           NaN   \n",
       "1            NaN            NaN            NaN         NaN           NaN   \n",
       "2            NaN            NaN            NaN         NaN           NaN   \n",
       "3            NaN            NaN            NaN         NaN           NaN   \n",
       "4            NaN            NaN            NaN         NaN           NaN   \n",
       "\n",
       "  Caller Phone No Customer Number Customer Name  \n",
       "0             NaN             NaN           NaN  \n",
       "1             NaN             NaN           NaN  \n",
       "2             NaN             NaN           NaN  \n",
       "3             NaN             NaN           NaN  \n",
       "4             NaN             NaN           NaN  \n",
       "\n",
       "[5 rows x 34 columns]"
      ]
     },
     "execution_count": 18,
     "metadata": {},
     "output_type": "execute_result"
    }
   ],
   "source": [
    "# ----------------------------------------------------------------------------\n",
    "# 🧪 Load Sample Dataset (Titanic from Seaborn)\n",
    "# ----------------------------------------------------------------------------\n",
    "import seaborn as sns\n",
    "import pandas as pd\n",
    "\n",
    "try:\n",
    "    df = pd.read_csv(\"query_export_results_latest.csv\")\n",
    "except FileNotFoundError:\n",
    "    df = sns.load_dataset(\"titanic\")\n",
    "\n",
    "df.head()"
   ]
  },
  {
   "cell_type": "code",
   "execution_count": 19,
   "id": "89162076",
   "metadata": {},
   "outputs": [
    {
     "name": "stdout",
     "output_type": "stream",
     "text": [
      "The autoreload extension is already loaded. To reload it, use:\n",
      "  %reload_ext autoreload\n"
     ]
    }
   ],
   "source": [
    "# ----------------------------------------------------------------------------\n",
    "# 🔁 Autoreload Extension Setup\n",
    "# ----------------------------------------------------------------------------\n",
    "%load_ext autoreload\n",
    "# Automatically reload all modules before executing cells\n",
    "%autoreload 2  "
   ]
  },
  {
   "cell_type": "code",
   "execution_count": 20,
   "id": "8d88a4bb",
   "metadata": {},
   "outputs": [],
   "source": [
    "# ----------------------------------------------------------------------------\n",
    "# 📦 Import Local Library Modules\n",
    "# ----------------------------------------------------------------------------\n",
    "import jcds.eda as jeda\n",
    "import jcds.reports as jrep"
   ]
  },
  {
   "cell_type": "code",
   "execution_count": 26,
   "id": "3d06f165",
   "metadata": {},
   "outputs": [
    {
     "name": "stdout",
     "output_type": "stream",
     "text": [
      "DATA QUALITY REPORT\n",
      "====================\n",
      "\n",
      " * Total entries (rows * cols): 151844\n",
      " * Memory usage: 8.43 MB\n",
      " * Rows: 4466\n",
      " * Columns: 34\n",
      "\n",
      "MISSING DATA:\n",
      " * Total entries: 94256 missing (62.1%)\n",
      "\n",
      "ROWS:\n",
      "--------------------\n",
      " * Rows missing any: 4465\n",
      " * Rows missing all: 0\n",
      "\n",
      "DUPLICATES: 0\n",
      "\n",
      "COLUMNS:\n",
      "--------------------\n",
      "Columns missing any: 28\n",
      "\t'DI - Complaint': 4453 missing (99.7%)\n",
      "\t'PI - Complaint': 4453 missing (99.7%)\n",
      "\t'Caller Phone No': 4440 missing (99.4%)\n",
      "\t'Caller Email': 4408 missing (98.7%)\n",
      "\t'ERP Complaint No': 4399 missing (98.5%)\n",
      "\t'Customer Number': 4399 missing (98.5%)\n",
      "\t'ERP Originator': 4393 missing (98.4%)\n",
      "\t'Order No': 4389 missing (98.3%)\n",
      "\t'SKU Description - Complaint': 4388 missing (98.3%)\n",
      "\t'Regulatory Code - Complaint': 4376 missing (98.0%)\n",
      "\t'Lot - Complaint': 4361 missing (97.6%)\n",
      "\t'Caller Name': 4360 missing (97.6%)\n",
      "\t'Customer Name': 4360 missing (97.6%)\n",
      "\t'SKU No - Complaint': 4359 missing (97.6%)\n",
      "\t'Quantity Shipped - Complaint': 4359 missing (97.6%)\n",
      "\t'Regulated Product': 4357 missing (97.6%)\n",
      "\t'Defect Code': 4357 missing (97.6%)\n",
      "\t'Defect Description': 4357 missing (97.6%)\n",
      "\t'Sites Affected - Notification': 3522 missing (78.9%)\n",
      "\t'Invest Summary and Root Cause': 3393 missing (76.0%)\n",
      "\t'What Is The Issue': 2395 missing (53.6%)\n",
      "\t'Where Issue Occurred': 2350 missing (52.6%)\n",
      "\t'Extended Date Due': 1251 missing (28.0%)\n",
      "\t'Date Due': 1163 missing (26.0%)\n",
      "\t'Site Found/Mfg': 473 missing (10.6%)\n",
      "\t'Assigned To': 342 missing (7.7%)\n",
      "\t'Date Closed': 247 missing (5.5%)\n",
      "\t'QA Owner': 152 missing (3.4%)\n",
      "Column list: ['DI - Complaint', 'PI - Complaint', 'Caller Phone No', 'Caller Email', 'ERP Complaint No', 'Customer Number', 'ERP Originator', 'Order No', 'SKU Description - Complaint', 'Regulatory Code - Complaint', 'Lot - Complaint', 'Caller Name', 'Customer Name', 'SKU No - Complaint', 'Quantity Shipped - Complaint', 'Regulated Product', 'Defect Code', 'Defect Description', 'Sites Affected - Notification', 'Invest Summary and Root Cause', 'What Is The Issue', 'Where Issue Occurred', 'Extended Date Due', 'Date Due', 'Site Found/Mfg', 'Assigned To', 'Date Closed', 'QA Owner']\n",
      "\n",
      "CONSTANT: 0\n",
      "\n",
      "NEAR CONSTANT: 18\n",
      "\t(95% of values are the same)\n",
      "\tColumn list: ['SKU No - Complaint', 'ERP Complaint No', 'Regulatory Code - Complaint', 'Regulated Product', 'Defect Code', 'Defect Description', 'SKU Description - Complaint', 'Lot - Complaint', 'Quantity Shipped - Complaint', 'Order No', 'ERP Originator', 'DI - Complaint', 'PI - Complaint', 'Caller Name', 'Caller Email', 'Caller Phone No', 'Customer Number', 'Customer Name']\n",
      "\n",
      "MIXED DATATYPES: 27\n",
      "\tColumn list: ['Date Due', 'Date Closed', 'Extended Date Due', 'QA Owner', 'Assigned To', 'Where Issue Occurred', 'What Is The Issue', 'Invest Summary and Root Cause', 'Site Found/Mfg', 'SKU No - Complaint', 'Regulatory Code - Complaint', 'Regulated Product', 'Sites Affected - Notification', 'Defect Code', 'Defect Description', 'SKU Description - Complaint', 'Lot - Complaint', 'Quantity Shipped - Complaint', 'Order No', 'ERP Originator', 'DI - Complaint', 'PI - Complaint', 'Caller Name', 'Caller Email', 'Caller Phone No', 'Customer Number', 'Customer Name']\n",
      "\n",
      "HIGH CARDINALITY: 3\n",
      "\t(60% >= unique values)\n",
      "\tColumn list: [('Date Opened', 99.01477832512316), ('Date Closed', 92.76757725033588), ('Short Description', 77.60859829825347)]\n"
     ]
    }
   ],
   "source": [
    "# ----------------------------------------------------------------------------\n",
    "# 🚀 Run Function to Test Live Edits\n",
    "# ----------------------------------------------------------------------------\n",
    "# Edit your jcds functions and save the .py file. Then re-run this cell.\n",
    "\n",
    "jrep.data_quality(\n",
    "    df, show_columns=True\n",
    ")  # Replace or duplicate this cell for any function you want to test."
   ]
  },
  {
   "cell_type": "code",
   "execution_count": 27,
   "id": "ff97b58a",
   "metadata": {},
   "outputs": [
    {
     "data": {
      "text/plain": [
       "{'DI - Complaint': (4453, 99.7),\n",
       " 'PI - Complaint': (4453, 99.7),\n",
       " 'Caller Phone No': (4440, 99.4),\n",
       " 'Caller Email': (4408, 98.7),\n",
       " 'ERP Complaint No': (4399, 98.5),\n",
       " 'Customer Number': (4399, 98.5),\n",
       " 'ERP Originator': (4393, 98.4),\n",
       " 'Order No': (4389, 98.3),\n",
       " 'SKU Description - Complaint': (4388, 98.3),\n",
       " 'Regulatory Code - Complaint': (4376, 98.0),\n",
       " 'Lot - Complaint': (4361, 97.6),\n",
       " 'Caller Name': (4360, 97.6),\n",
       " 'Customer Name': (4360, 97.6),\n",
       " 'SKU No - Complaint': (4359, 97.6),\n",
       " 'Quantity Shipped - Complaint': (4359, 97.6),\n",
       " 'Regulated Product': (4357, 97.6),\n",
       " 'Defect Code': (4357, 97.6),\n",
       " 'Defect Description': (4357, 97.6),\n",
       " 'Sites Affected - Notification': (3522, 78.9),\n",
       " 'Invest Summary and Root Cause': (3393, 76.0),\n",
       " 'What Is The Issue': (2395, 53.6),\n",
       " 'Where Issue Occurred': (2350, 52.6),\n",
       " 'Extended Date Due': (1251, 28.0),\n",
       " 'Date Due': (1163, 26.0),\n",
       " 'Site Found/Mfg': (473, 10.6),\n",
       " 'Assigned To': (342, 7.7),\n",
       " 'Date Closed': (247, 5.5),\n",
       " 'QA Owner': (152, 3.4)}"
      ]
     },
     "execution_count": 27,
     "metadata": {},
     "output_type": "execute_result"
    }
   ],
   "source": [
    "jeda.show_missing_summary(df)"
   ]
  },
  {
   "cell_type": "code",
   "execution_count": 35,
   "id": "5d0f8041",
   "metadata": {},
   "outputs": [
    {
     "name": "stdout",
     "output_type": "stream",
     "text": [
      "Cateogrical variables with cardinality >= 20%\n",
      "[('Date Opened', 99.01477832512316), ('Date Due', 25.906851768920735), ('Date Closed', 92.76757725033588), ('Extended Date Due', 25.459023734885804), ('Short Description', 77.60859829825347), ('What Is The Issue', 46.37259292431706), ('Invest Summary and Root Cause', 22.279444693237796)]\n"
     ]
    }
   ],
   "source": [
    "highcard = jeda.show_highcardvars(df, percent_unique=20, verbose=True)\n",
    "print(highcard)"
   ]
  },
  {
   "cell_type": "code",
   "execution_count": 36,
   "id": "587e2d32",
   "metadata": {},
   "outputs": [
    {
     "name": "stdout",
     "output_type": "stream",
     "text": [
      " * 'Date Opened': 99.0%\n",
      " * 'Date Due': 25.9%\n",
      " * 'Date Closed': 92.8%\n",
      " * 'Extended Date Due': 25.5%\n",
      " * 'Short Description': 77.6%\n",
      " * 'What Is The Issue': 46.4%\n",
      " * 'Invest Summary and Root Cause': 22.3%\n"
     ]
    }
   ],
   "source": [
    "for col in highcard:\n",
    "    print(f\" * '{col[0]}': {col[1]:.1f}%\")"
   ]
  },
  {
   "cell_type": "code",
   "execution_count": null,
   "id": "505b0e90",
   "metadata": {},
   "outputs": [],
   "source": []
  }
 ],
 "metadata": {
  "kernelspec": {
   "display_name": "jcds-dev",
   "language": "python",
   "name": "python3"
  },
  "language_info": {
   "codemirror_mode": {
    "name": "ipython",
    "version": 3
   },
   "file_extension": ".py",
   "mimetype": "text/x-python",
   "name": "python",
   "nbconvert_exporter": "python",
   "pygments_lexer": "ipython3",
   "version": "3.10.16"
  }
 },
 "nbformat": 4,
 "nbformat_minor": 5
}
