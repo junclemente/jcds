{
 "cells": [
  {
   "cell_type": "code",
   "execution_count": 2,
   "metadata": {},
   "outputs": [],
   "source": [
    "import sys\n",
    "import os\n",
    "import importlib\n",
    "\n",
    "# Add parent directory to sys path\n",
    "sys.path.append(os.path.abspath(os.path.join(os.getcwd(), os.pardir)))"
   ]
  },
  {
   "cell_type": "code",
   "execution_count": 2,
   "metadata": {},
   "outputs": [],
   "source": [
    "import jcds.aws as jaws\n",
    "\n",
    "# import jcds.aws as jaws"
   ]
  },
  {
   "cell_type": "code",
   "execution_count": 3,
   "metadata": {},
   "outputs": [
    {
     "ename": "NameError",
     "evalue": "name 'jcds' is not defined",
     "output_type": "error",
     "traceback": [
      "\u001b[0;31m---------------------------------------------------------------------------\u001b[0m",
      "\u001b[0;31mNameError\u001b[0m                                 Traceback (most recent call last)",
      "Cell \u001b[0;32mIn[3], line 1\u001b[0m\n\u001b[0;32m----> 1\u001b[0m \u001b[43mjcds\u001b[49m\u001b[38;5;241m.\u001b[39mhelp()\n",
      "\u001b[0;31mNameError\u001b[0m: name 'jcds' is not defined"
     ]
    }
   ],
   "source": [
    "jcds.help()"
   ]
  },
  {
   "cell_type": "code",
   "execution_count": 4,
   "metadata": {},
   "outputs": [
    {
     "name": "stdout",
     "output_type": "stream",
     "text": [
      "Available functions in this module:\n",
      "  - list_s3_contents\n",
      "  - s3_file_to_dataframe\n",
      "\n",
      "Use help(\"function_name\") to see its documentation.\n"
     ]
    }
   ],
   "source": [
    "jaws.help()"
   ]
  },
  {
   "cell_type": "code",
   "execution_count": 5,
   "metadata": {},
   "outputs": [
    {
     "name": "stdout",
     "output_type": "stream",
     "text": [
      "\n",
      "Help for 'list_s3_contents':\n",
      "\n",
      "Lists the contents (object keys) of a public Amazon S3 bucket using anonymous access.\n",
      "\n",
      "Args:\n",
      "    bucket_name (str): The name of the public S3 bucket to list contents from.\n",
      "\n",
      "Returns:\n",
      "    None. Prints the keys (filenames) of the objects found in the bucket.\n",
      "\n",
      "Notes:\n",
      "    - This function uses anonymous (unsigned) access and works only with public buckets.\n",
      "    - Requires the `boto3` and `botocore` libraries.\n",
      "    - If the bucket is not public or an error occurs, an error message is printed.\n"
     ]
    }
   ],
   "source": [
    "jaws.help(\"list_s3_contents\")"
   ]
  },
  {
   "cell_type": "code",
   "execution_count": 6,
   "metadata": {},
   "outputs": [],
   "source": [
    "import jcds"
   ]
  },
  {
   "cell_type": "code",
   "execution_count": 7,
   "metadata": {},
   "outputs": [
    {
     "name": "stdout",
     "output_type": "stream",
     "text": [
      "[Warning] Could not load module jcds.charts: No module named 'sklearn'\n",
      "Available functions in jcds:\n",
      "  - display_all_col_head\n",
      "  - dqr_cat\n",
      "  - dqr_cont\n",
      "  - get_cat_list\n",
      "  - get_cont_list\n",
      "  - list_s3_contents\n",
      "  - long_report\n",
      "  - mc_confusion\n",
      "  - quick_report\n",
      "  - s3_file_to_dataframe\n",
      "\n",
      "Use jcds.help(\"function_name\") to see its documentation.\n"
     ]
    }
   ],
   "source": [
    "jcds.help()"
   ]
  },
  {
   "cell_type": "code",
   "execution_count": 3,
   "metadata": {},
   "outputs": [
    {
     "name": "stdout",
     "output_type": "stream",
     "text": [
      "Available functions in this module:\n",
      "  - display_all_col_head\n",
      "  - dqr_cat\n",
      "  - dqr_cont\n",
      "  - get_cat_list\n",
      "  - get_cont_list\n",
      "  - long_report\n",
      "  - quick_report\n",
      "\n",
      "Use help(\"function_name\") to see its documentation.\n"
     ]
    }
   ],
   "source": [
    "import jcds.eda as jeda\n",
    "\n",
    "jeda.help()"
   ]
  },
  {
   "cell_type": "code",
   "execution_count": null,
   "metadata": {},
   "outputs": [],
   "source": []
  }
 ],
 "metadata": {
  "kernelspec": {
   "display_name": "ads508",
   "language": "python",
   "name": "python3"
  },
  "language_info": {
   "codemirror_mode": {
    "name": "ipython",
    "version": 3
   },
   "file_extension": ".py",
   "mimetype": "text/x-python",
   "name": "python",
   "nbconvert_exporter": "python",
   "pygments_lexer": "ipython3",
   "version": "3.10.16"
  }
 },
 "nbformat": 4,
 "nbformat_minor": 2
}
