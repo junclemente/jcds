{
  "cells": [
    {
      "cell_type": "markdown",
      "id": "408cbb4f",
      "metadata": {},
      "source": [
        "# Using the .help() function"
      ]
    },
    {
      "cell_type": "code",
      "execution_count": null,
      "id": "d5235ece",
      "metadata": {},
      "outputs": [
        {
          "name": "stdout",
          "output_type": "stream",
          "text": [
            "Collecting git+https://github.com/junclemente/jcds.git\n",
            "  Cloning https://github.com/junclemente/jcds.git to /tmp/pip-req-build-8mw7s1et\n",
            "  Running command git clone --filter=blob:none --quiet https://github.com/junclemente/jcds.git /tmp/pip-req-build-8mw7s1et\n",
            "  Resolved https://github.com/junclemente/jcds.git to commit a227101aee60ac9eae430633d68ed19ff8054159\n",
            "  Installing build dependencies ... \u001b[?25ldone\n",
            "\u001b[?25h  Getting requirements to build wheel ... \u001b[?25ldone\n",
            "\u001b[?25h  Preparing metadata (pyproject.toml) ... \u001b[?25ldone\n",
            "\u001b[?25hRequirement already satisfied: pandas in /home/jc/miniconda3/envs/jcds-dev/lib/python3.10/site-packages (from jcds==0.2.2) (2.2.3)\n",
            "Requirement already satisfied: pyarrow in /home/jc/miniconda3/envs/jcds-dev/lib/python3.10/site-packages (from jcds==0.2.2) (19.0.1)\n",
            "Requirement already satisfied: numpy in /home/jc/miniconda3/envs/jcds-dev/lib/python3.10/site-packages (from jcds==0.2.2) (2.2.4)\n",
            "Requirement already satisfied: matplotlib in /home/jc/miniconda3/envs/jcds-dev/lib/python3.10/site-packages (from jcds==0.2.2) (3.10.1)\n",
            "Requirement already satisfied: seaborn in /home/jc/miniconda3/envs/jcds-dev/lib/python3.10/site-packages (from jcds==0.2.2) (0.13.2)\n",
            "Requirement already satisfied: ipython in /home/jc/miniconda3/envs/jcds-dev/lib/python3.10/site-packages (from jcds==0.2.2) (8.34.0)\n",
            "Requirement already satisfied: scikit-learn in /home/jc/miniconda3/envs/jcds-dev/lib/python3.10/site-packages (from jcds==0.2.2) (1.6.1)\n",
            "Requirement already satisfied: requests in /home/jc/miniconda3/envs/jcds-dev/lib/python3.10/site-packages (from jcds==0.2.2) (2.32.3)\n",
            "Requirement already satisfied: decorator in /home/jc/miniconda3/envs/jcds-dev/lib/python3.10/site-packages (from ipython->jcds==0.2.2) (5.2.1)\n",
            "Requirement already satisfied: exceptiongroup in /home/jc/miniconda3/envs/jcds-dev/lib/python3.10/site-packages (from ipython->jcds==0.2.2) (1.2.2)\n",
            "Requirement already satisfied: jedi>=0.16 in /home/jc/miniconda3/envs/jcds-dev/lib/python3.10/site-packages (from ipython->jcds==0.2.2) (0.19.2)\n",
            "Requirement already satisfied: matplotlib-inline in /home/jc/miniconda3/envs/jcds-dev/lib/python3.10/site-packages (from ipython->jcds==0.2.2) (0.1.7)\n",
            "Requirement already satisfied: pexpect>4.3 in /home/jc/miniconda3/envs/jcds-dev/lib/python3.10/site-packages (from ipython->jcds==0.2.2) (4.9.0)\n",
            "Requirement already satisfied: prompt_toolkit<3.1.0,>=3.0.41 in /home/jc/miniconda3/envs/jcds-dev/lib/python3.10/site-packages (from ipython->jcds==0.2.2) (3.0.50)\n",
            "Requirement already satisfied: pygments>=2.4.0 in /home/jc/miniconda3/envs/jcds-dev/lib/python3.10/site-packages (from ipython->jcds==0.2.2) (2.19.1)\n",
            "Requirement already satisfied: stack_data in /home/jc/miniconda3/envs/jcds-dev/lib/python3.10/site-packages (from ipython->jcds==0.2.2) (0.6.3)\n",
            "Requirement already satisfied: traitlets>=5.13.0 in /home/jc/miniconda3/envs/jcds-dev/lib/python3.10/site-packages (from ipython->jcds==0.2.2) (5.14.3)\n",
            "Requirement already satisfied: typing_extensions>=4.6 in /home/jc/miniconda3/envs/jcds-dev/lib/python3.10/site-packages (from ipython->jcds==0.2.2) (4.13.0)\n",
            "Requirement already satisfied: contourpy>=1.0.1 in /home/jc/miniconda3/envs/jcds-dev/lib/python3.10/site-packages (from matplotlib->jcds==0.2.2) (1.3.1)\n",
            "Requirement already satisfied: cycler>=0.10 in /home/jc/miniconda3/envs/jcds-dev/lib/python3.10/site-packages (from matplotlib->jcds==0.2.2) (0.12.1)\n",
            "Requirement already satisfied: fonttools>=4.22.0 in /home/jc/miniconda3/envs/jcds-dev/lib/python3.10/site-packages (from matplotlib->jcds==0.2.2) (4.57.0)\n",
            "Requirement already satisfied: kiwisolver>=1.3.1 in /home/jc/miniconda3/envs/jcds-dev/lib/python3.10/site-packages (from matplotlib->jcds==0.2.2) (1.4.7)\n",
            "Requirement already satisfied: packaging>=20.0 in /home/jc/miniconda3/envs/jcds-dev/lib/python3.10/site-packages (from matplotlib->jcds==0.2.2) (24.2)\n",
            "Requirement already satisfied: pillow>=8 in /home/jc/miniconda3/envs/jcds-dev/lib/python3.10/site-packages (from matplotlib->jcds==0.2.2) (11.1.0)\n",
            "Requirement already satisfied: pyparsing>=2.3.1 in /home/jc/miniconda3/envs/jcds-dev/lib/python3.10/site-packages (from matplotlib->jcds==0.2.2) (3.2.3)\n",
            "Requirement already satisfied: python-dateutil>=2.7 in /home/jc/miniconda3/envs/jcds-dev/lib/python3.10/site-packages (from matplotlib->jcds==0.2.2) (2.9.0.post0)\n",
            "Requirement already satisfied: pytz>=2020.1 in /home/jc/miniconda3/envs/jcds-dev/lib/python3.10/site-packages (from pandas->jcds==0.2.2) (2024.1)\n",
            "Requirement already satisfied: tzdata>=2022.7 in /home/jc/miniconda3/envs/jcds-dev/lib/python3.10/site-packages (from pandas->jcds==0.2.2) (2025.2)\n",
            "Requirement already satisfied: charset_normalizer<4,>=2 in /home/jc/miniconda3/envs/jcds-dev/lib/python3.10/site-packages (from requests->jcds==0.2.2) (3.4.1)\n",
            "Requirement already satisfied: idna<4,>=2.5 in /home/jc/miniconda3/envs/jcds-dev/lib/python3.10/site-packages (from requests->jcds==0.2.2) (3.10)\n",
            "Requirement already satisfied: urllib3<3,>=1.21.1 in /home/jc/miniconda3/envs/jcds-dev/lib/python3.10/site-packages (from requests->jcds==0.2.2) (2.3.0)\n",
            "Requirement already satisfied: certifi>=2017.4.17 in /home/jc/miniconda3/envs/jcds-dev/lib/python3.10/site-packages (from requests->jcds==0.2.2) (2025.1.31)\n",
            "Requirement already satisfied: scipy>=1.6.0 in /home/jc/miniconda3/envs/jcds-dev/lib/python3.10/site-packages (from scikit-learn->jcds==0.2.2) (1.15.2)\n",
            "Requirement already satisfied: joblib>=1.2.0 in /home/jc/miniconda3/envs/jcds-dev/lib/python3.10/site-packages (from scikit-learn->jcds==0.2.2) (1.4.2)\n",
            "Requirement already satisfied: threadpoolctl>=3.1.0 in /home/jc/miniconda3/envs/jcds-dev/lib/python3.10/site-packages (from scikit-learn->jcds==0.2.2) (3.6.0)\n",
            "Requirement already satisfied: parso<0.9.0,>=0.8.4 in /home/jc/miniconda3/envs/jcds-dev/lib/python3.10/site-packages (from jedi>=0.16->ipython->jcds==0.2.2) (0.8.4)\n",
            "Requirement already satisfied: ptyprocess>=0.5 in /home/jc/miniconda3/envs/jcds-dev/lib/python3.10/site-packages (from pexpect>4.3->ipython->jcds==0.2.2) (0.7.0)\n",
            "Requirement already satisfied: wcwidth in /home/jc/miniconda3/envs/jcds-dev/lib/python3.10/site-packages (from prompt_toolkit<3.1.0,>=3.0.41->ipython->jcds==0.2.2) (0.2.13)\n",
            "Requirement already satisfied: six>=1.5 in /home/jc/miniconda3/envs/jcds-dev/lib/python3.10/site-packages (from python-dateutil>=2.7->matplotlib->jcds==0.2.2) (1.17.0)\n",
            "Requirement already satisfied: executing>=1.2.0 in /home/jc/miniconda3/envs/jcds-dev/lib/python3.10/site-packages (from stack_data->ipython->jcds==0.2.2) (2.1.0)\n",
            "Requirement already satisfied: asttokens>=2.1.0 in /home/jc/miniconda3/envs/jcds-dev/lib/python3.10/site-packages (from stack_data->ipython->jcds==0.2.2) (3.0.0)\n",
            "Requirement already satisfied: pure_eval in /home/jc/miniconda3/envs/jcds-dev/lib/python3.10/site-packages (from stack_data->ipython->jcds==0.2.2) (0.2.3)\n",
            "Building wheels for collected packages: jcds\n",
            "  Building wheel for jcds (pyproject.toml) ... \u001b[?25ldone\n",
            "\u001b[?25h  Created wheel for jcds: filename=jcds-0.2.2-py3-none-any.whl size=26359 sha256=81e75ca57c4c5fd757b315617eb3109e807290bfcb1f2cd89f4476432aaf1b9c\n",
            "  Stored in directory: /tmp/pip-ephem-wheel-cache-7oncg33y/wheels/e9/23/ac/c0b17423e820bd87f94df176c872de67ff2cf323434bbbb78d\n",
            "Successfully built jcds\n",
            "Installing collected packages: jcds\n",
            "  Attempting uninstall: jcds\n",
            "    Found existing installation: jcds 0.2.1\n",
            "    Uninstalling jcds-0.2.1:\n",
            "      Successfully uninstalled jcds-0.2.1\n",
            "Successfully installed jcds-0.2.2\n"
          ]
        }
      ],
      "source": [
        "# Install jcds library with pip\n",
        "!pip install git+https://github.com/junclemente/jcds.git"
      ]
    },
    {
      "cell_type": "code",
      "execution_count": 2,
      "id": "a58f7a34",
      "metadata": {},
      "outputs": [],
      "source": [
        "import pandas as pd\n",
        "import seaborn as sns"
      ]
    },
    {
      "cell_type": "code",
      "execution_count": 8,
      "id": "716ba7bc",
      "metadata": {},
      "outputs": [
        {
          "data": {
            "application/vnd.microsoft.datawrangler.viewer.v0+json": {
              "columns": [
                {
                  "name": "index",
                  "rawType": "int64",
                  "type": "integer"
                },
                {
                  "name": "survived",
                  "rawType": "int64",
                  "type": "integer"
                },
                {
                  "name": "pclass",
                  "rawType": "int64",
                  "type": "integer"
                },
                {
                  "name": "sex",
                  "rawType": "object",
                  "type": "string"
                },
                {
                  "name": "age",
                  "rawType": "float64",
                  "type": "float"
                },
                {
                  "name": "sibsp",
                  "rawType": "int64",
                  "type": "integer"
                },
                {
                  "name": "parch",
                  "rawType": "int64",
                  "type": "integer"
                },
                {
                  "name": "fare",
                  "rawType": "float64",
                  "type": "float"
                },
                {
                  "name": "embarked",
                  "rawType": "object",
                  "type": "string"
                },
                {
                  "name": "class",
                  "rawType": "category",
                  "type": "unknown"
                },
                {
                  "name": "who",
                  "rawType": "object",
                  "type": "string"
                },
                {
                  "name": "adult_male",
                  "rawType": "bool",
                  "type": "boolean"
                },
                {
                  "name": "deck",
                  "rawType": "category",
                  "type": "unknown"
                },
                {
                  "name": "embark_town",
                  "rawType": "object",
                  "type": "string"
                },
                {
                  "name": "alive",
                  "rawType": "object",
                  "type": "string"
                },
                {
                  "name": "alone",
                  "rawType": "bool",
                  "type": "boolean"
                }
              ],
              "conversionMethod": "pd.DataFrame",
              "ref": "6233195a-2807-47b2-90b3-d55be537659e",
              "rows": [
                [
                  "0",
                  "0",
                  "3",
                  "male",
                  "22.0",
                  "1",
                  "0",
                  "7.25",
                  "S",
                  "Third",
                  "man",
                  "True",
                  null,
                  "Southampton",
                  "no",
                  "False"
                ],
                [
                  "1",
                  "1",
                  "1",
                  "female",
                  "38.0",
                  "1",
                  "0",
                  "71.2833",
                  "C",
                  "First",
                  "woman",
                  "False",
                  "C",
                  "Cherbourg",
                  "yes",
                  "False"
                ],
                [
                  "2",
                  "1",
                  "3",
                  "female",
                  "26.0",
                  "0",
                  "0",
                  "7.925",
                  "S",
                  "Third",
                  "woman",
                  "False",
                  null,
                  "Southampton",
                  "yes",
                  "True"
                ],
                [
                  "3",
                  "1",
                  "1",
                  "female",
                  "35.0",
                  "1",
                  "0",
                  "53.1",
                  "S",
                  "First",
                  "woman",
                  "False",
                  "C",
                  "Southampton",
                  "yes",
                  "False"
                ],
                [
                  "4",
                  "0",
                  "3",
                  "male",
                  "35.0",
                  "0",
                  "0",
                  "8.05",
                  "S",
                  "Third",
                  "man",
                  "True",
                  null,
                  "Southampton",
                  "no",
                  "True"
                ]
              ],
              "shape": {
                "columns": 15,
                "rows": 5
              }
            },
            "text/html": [
              "<div>\n",
              "<style scoped>\n",
              "    .dataframe tbody tr th:only-of-type {\n",
              "        vertical-align: middle;\n",
              "    }\n",
              "\n",
              "    .dataframe tbody tr th {\n",
              "        vertical-align: top;\n",
              "    }\n",
              "\n",
              "    .dataframe thead th {\n",
              "        text-align: right;\n",
              "    }\n",
              "</style>\n",
              "<table border=\"1\" class=\"dataframe\">\n",
              "  <thead>\n",
              "    <tr style=\"text-align: right;\">\n",
              "      <th></th>\n",
              "      <th>survived</th>\n",
              "      <th>pclass</th>\n",
              "      <th>sex</th>\n",
              "      <th>age</th>\n",
              "      <th>sibsp</th>\n",
              "      <th>parch</th>\n",
              "      <th>fare</th>\n",
              "      <th>embarked</th>\n",
              "      <th>class</th>\n",
              "      <th>who</th>\n",
              "      <th>adult_male</th>\n",
              "      <th>deck</th>\n",
              "      <th>embark_town</th>\n",
              "      <th>alive</th>\n",
              "      <th>alone</th>\n",
              "    </tr>\n",
              "  </thead>\n",
              "  <tbody>\n",
              "    <tr>\n",
              "      <th>0</th>\n",
              "      <td>0</td>\n",
              "      <td>3</td>\n",
              "      <td>male</td>\n",
              "      <td>22.0</td>\n",
              "      <td>1</td>\n",
              "      <td>0</td>\n",
              "      <td>7.2500</td>\n",
              "      <td>S</td>\n",
              "      <td>Third</td>\n",
              "      <td>man</td>\n",
              "      <td>True</td>\n",
              "      <td>NaN</td>\n",
              "      <td>Southampton</td>\n",
              "      <td>no</td>\n",
              "      <td>False</td>\n",
              "    </tr>\n",
              "    <tr>\n",
              "      <th>1</th>\n",
              "      <td>1</td>\n",
              "      <td>1</td>\n",
              "      <td>female</td>\n",
              "      <td>38.0</td>\n",
              "      <td>1</td>\n",
              "      <td>0</td>\n",
              "      <td>71.2833</td>\n",
              "      <td>C</td>\n",
              "      <td>First</td>\n",
              "      <td>woman</td>\n",
              "      <td>False</td>\n",
              "      <td>C</td>\n",
              "      <td>Cherbourg</td>\n",
              "      <td>yes</td>\n",
              "      <td>False</td>\n",
              "    </tr>\n",
              "    <tr>\n",
              "      <th>2</th>\n",
              "      <td>1</td>\n",
              "      <td>3</td>\n",
              "      <td>female</td>\n",
              "      <td>26.0</td>\n",
              "      <td>0</td>\n",
              "      <td>0</td>\n",
              "      <td>7.9250</td>\n",
              "      <td>S</td>\n",
              "      <td>Third</td>\n",
              "      <td>woman</td>\n",
              "      <td>False</td>\n",
              "      <td>NaN</td>\n",
              "      <td>Southampton</td>\n",
              "      <td>yes</td>\n",
              "      <td>True</td>\n",
              "    </tr>\n",
              "    <tr>\n",
              "      <th>3</th>\n",
              "      <td>1</td>\n",
              "      <td>1</td>\n",
              "      <td>female</td>\n",
              "      <td>35.0</td>\n",
              "      <td>1</td>\n",
              "      <td>0</td>\n",
              "      <td>53.1000</td>\n",
              "      <td>S</td>\n",
              "      <td>First</td>\n",
              "      <td>woman</td>\n",
              "      <td>False</td>\n",
              "      <td>C</td>\n",
              "      <td>Southampton</td>\n",
              "      <td>yes</td>\n",
              "      <td>False</td>\n",
              "    </tr>\n",
              "    <tr>\n",
              "      <th>4</th>\n",
              "      <td>0</td>\n",
              "      <td>3</td>\n",
              "      <td>male</td>\n",
              "      <td>35.0</td>\n",
              "      <td>0</td>\n",
              "      <td>0</td>\n",
              "      <td>8.0500</td>\n",
              "      <td>S</td>\n",
              "      <td>Third</td>\n",
              "      <td>man</td>\n",
              "      <td>True</td>\n",
              "      <td>NaN</td>\n",
              "      <td>Southampton</td>\n",
              "      <td>no</td>\n",
              "      <td>True</td>\n",
              "    </tr>\n",
              "  </tbody>\n",
              "</table>\n",
              "</div>"
            ],
            "text/plain": [
              "   survived  pclass     sex   age  sibsp  parch     fare embarked  class  \\\n",
              "0         0       3    male  22.0      1      0   7.2500        S  Third   \n",
              "1         1       1  female  38.0      1      0  71.2833        C  First   \n",
              "2         1       3  female  26.0      0      0   7.9250        S  Third   \n",
              "3         1       1  female  35.0      1      0  53.1000        S  First   \n",
              "4         0       3    male  35.0      0      0   8.0500        S  Third   \n",
              "\n",
              "     who  adult_male deck  embark_town alive  alone  \n",
              "0    man        True  NaN  Southampton    no  False  \n",
              "1  woman       False    C    Cherbourg   yes  False  \n",
              "2  woman       False  NaN  Southampton   yes   True  \n",
              "3  woman       False    C  Southampton   yes  False  \n",
              "4    man        True  NaN  Southampton    no   True  "
            ]
          },
          "execution_count": 8,
          "metadata": {},
          "output_type": "execute_result"
        }
      ],
      "source": [
        "# import sebaorn's titanic dataset\n",
        "df = sns.load_dataset(\"titanic\")\n",
        "df.head()"
      ]
    },
    {
      "cell_type": "markdown",
      "id": "e87dc34c",
      "metadata": {},
      "source": [
        "## Import the `eda` module"
      ]
    },
    {
      "cell_type": "code",
      "execution_count": 3,
      "id": "cc378e1c",
      "metadata": {},
      "outputs": [],
      "source": [
        "from jcds import eda as jeda"
      ]
    },
    {
      "cell_type": "markdown",
      "id": "e8fb1e07",
      "metadata": {},
      "source": [
        "## List all available functions in the module"
      ]
    },
    {
      "cell_type": "code",
      "execution_count": 4,
      "id": "ac2672e0",
      "metadata": {},
      "outputs": [
        {
          "name": "stdout",
          "output_type": "stream",
          "text": [
            "Available functions in jcds:\n",
            "\n",
            "  - count_cols_with_all_na\n",
            "  - count_cols_with_any_na\n",
            "  - count_rows_with_all_na\n",
            "  - count_rows_with_any_na\n",
            "  - count_total_na\n",
            "  - count_unique_values\n",
            "  - create_dt_col\n",
            "  - create_dt_cols\n",
            "  - display_all_col_head\n",
            "  - dqr_cat\n",
            "  - dqr_cont\n",
            "  - get_cat_list\n",
            "  - get_cont_list\n",
            "  - list_unique_values\n",
            "  - long_report\n",
            "  - quick_report\n",
            "  - rename_col\n",
            "  - show_binary_list\n",
            "  - show_catvar\n",
            "  - show_convar\n",
            "  - show_dupes\n",
            "  - show_lowcardvars\n",
            "  - show_shape\n",
            "\n",
            "Use jcds.help(\"function_name\") to see its documentation.\n"
          ]
        }
      ],
      "source": [
        "jeda.help()"
      ]
    },
    {
      "cell_type": "markdown",
      "id": "e9d77f30",
      "metadata": {},
      "source": [
        "## Show docstring for a particular function"
      ]
    },
    {
      "cell_type": "code",
      "execution_count": 5,
      "id": "5fddd0a7",
      "metadata": {},
      "outputs": [
        {
          "name": "stdout",
          "output_type": "stream",
          "text": [
            "\n",
            "Help for 'show_shape':\n",
            "\n",
            "Return the shape (number of rows and columns) of the given DataFrame.\n",
            "\n",
            "Parameters\n",
            "----------\n",
            "dataframe : pd.DataFrame\n",
            "    The input pandas DataFrame.\n",
            "\n",
            "Returns\n",
            "-------\n",
            "tuple of int\n",
            "    A tuple containing the number of rows and columns in the DataFrame.\n"
          ]
        }
      ],
      "source": [
        "jeda.help(\"show_shape\")"
      ]
    },
    {
      "cell_type": "code",
      "execution_count": null,
      "id": "35637373",
      "metadata": {},
      "outputs": [
        {
          "data": {
            "text/plain": [
              "(891, 15)"
            ]
          },
          "execution_count": 7,
          "metadata": {},
          "output_type": "execute_result"
        }
      ],
      "source": [
        "# use show_shape\n",
        "jeda.show_shape(df)"
      ]
    },
    {
      "cell_type": "code",
      "execution_count": 9,
      "id": "e9b07e17",
      "metadata": {},
      "outputs": [
        {
          "name": "stdout",
          "output_type": "stream",
          "text": [
            "\n",
            "Help for 'show_lowcardvars':\n",
            "\n",
            "Return a list of categorical variables with unique values less than or equal to the specified threshold.\n",
            "\n",
            "Parameters\n",
            "----------\n",
            "dataframe : pd.DataFrame\n",
            "    The input pandas DataFrame.\n",
            "max_unique : int, optional\n",
            "    The maximum number of unique values allowed for a variable to be considered low cardinality. Default is 10.\n",
            "\n",
            "Returns\n",
            "-------\n",
            "list of tuple\n",
            "    A list of tuples where each tuple contains the column name and the number of unique values.\n"
          ]
        }
      ],
      "source": [
        "jeda.help(\"show_lowcardvars\")"
      ]
    },
    {
      "cell_type": "code",
      "execution_count": 10,
      "id": "c334278a",
      "metadata": {},
      "outputs": [
        {
          "name": "stdout",
          "output_type": "stream",
          "text": [
            "Showing cat var of cardinality <= 10\n"
          ]
        },
        {
          "data": {
            "text/plain": [
              "[('sex', 2),\n",
              " ('embarked', 3),\n",
              " ('class', 3),\n",
              " ('who', 3),\n",
              " ('deck', 7),\n",
              " ('embark_town', 3),\n",
              " ('alive', 2)]"
            ]
          },
          "execution_count": 10,
          "metadata": {},
          "output_type": "execute_result"
        }
      ],
      "source": [
        "# use show_lowcardvars\n",
        "jeda.show_lowcardvars(df)"
      ]
    },
    {
      "cell_type": "code",
      "execution_count": 12,
      "id": "e8df21c2",
      "metadata": {},
      "outputs": [
        {
          "name": "stdout",
          "output_type": "stream",
          "text": [
            "Showing cat var of cardinality <= 5\n"
          ]
        },
        {
          "data": {
            "text/plain": [
              "[('sex', 2),\n",
              " ('embarked', 3),\n",
              " ('class', 3),\n",
              " ('who', 3),\n",
              " ('embark_town', 3),\n",
              " ('alive', 2)]"
            ]
          },
          "execution_count": 12,
          "metadata": {},
          "output_type": "execute_result"
        }
      ],
      "source": [
        "jeda.show_lowcardvars(df, 5)"
      ]
    },
    {
      "cell_type": "code",
      "execution_count": 14,
      "id": "ceaff2f5",
      "metadata": {},
      "outputs": [
        {
          "name": "stdout",
          "output_type": "stream",
          "text": [
            "\n",
            "Help for 'show_binary_list':\n",
            "\n",
            "Identify binary columns in a DataFrame, optionally considering missing values.\n",
            "\n",
            "Parameters\n",
            "----------\n",
            "dataframe : pd.DataFrame\n",
            "    The input pandas DataFrame.\n",
            "dropna : bool, optional\n",
            "    If True, NaN values are excluded when determining binary columns. Default is True.\n",
            "\n",
            "Returns\n",
            "-------\n",
            "dict\n",
            "    A dictionary with two keys:\n",
            "        - \"binary_columns\": list of column names that contain exactly two unique non-null values.\n",
            "        - \"binary_with_nan\": list of column names that have two unique non-null values and also include NaNs.\n"
          ]
        }
      ],
      "source": [
        "jeda.help(\"show_binary_list\")"
      ]
    },
    {
      "cell_type": "code",
      "execution_count": 18,
      "id": "99a01d03",
      "metadata": {},
      "outputs": [
        {
          "data": {
            "text/plain": [
              "{'binary_columns': ['survived', 'sex', 'adult_male', 'alive', 'alone'],\n",
              " 'binary_with_nan': []}"
            ]
          },
          "metadata": {},
          "output_type": "display_data"
        }
      ],
      "source": [
        "binary_list = jeda.show_binary_list(df)\n",
        "\n",
        "display(binary_list)"
      ]
    },
    {
      "cell_type": "markdown",
      "id": "08b6297e",
      "metadata": {},
      "source": [
        "## Import the `aws` module"
      ]
    },
    {
      "cell_type": "code",
      "execution_count": 19,
      "id": "4ade3c9e",
      "metadata": {},
      "outputs": [],
      "source": [
        "import jcds.aws as jaws"
      ]
    },
    {
      "cell_type": "code",
      "execution_count": 20,
      "id": "a9c512ab",
      "metadata": {},
      "outputs": [
        {
          "name": "stdout",
          "output_type": "stream",
          "text": [
            "Available functions in jcds:\n",
            "\n",
            "  - list_s3_bucket\n",
            "\n",
            "Use jcds.help(\"function_name\") to see its documentation.\n"
          ]
        }
      ],
      "source": [
        "jaws.help()"
      ]
    },
    {
      "cell_type": "code",
      "execution_count": 5,
      "id": "6a59d71f",
      "metadata": {},
      "outputs": [
        {
          "name": "stdout",
          "output_type": "stream",
          "text": [
            "\n",
            "Help for 'list_s3_bucket':\n",
            "\n",
            "List the contents (object keys) of a public Amazon S3 bucket using anonymous access.\n",
            "\n",
            "Parameters\n",
            "----------\n",
            "bucket_name : str\n",
            "    The name of the public S3 bucket to list contents from.\n",
            "\n",
            "Returns\n",
            "-------\n",
            "None\n",
            "    Prints the keys (filenames) of the objects found in the bucket.\n",
            "\n",
            "Notes\n",
            "-----\n",
            "- This function uses anonymous (unsigned) access and works only with public buckets.\n",
            "- Requires the `boto3` and `botocore` libraries.\n",
            "- If the bucket is not public or an error occurs, an error message is printed.\n"
          ]
        }
      ],
      "source": [
        "jaws.help(\"list_s3_bucket\")"
      ]
    },
    {
      "cell_type": "markdown",
      "id": "409ca8d2",
      "metadata": {},
      "source": [
        "## Import the jcds library"
      ]
    },
    {
      "cell_type": "code",
      "execution_count": 24,
      "id": "ca9cb700",
      "metadata": {},
      "outputs": [],
      "source": [
        "import jcds"
      ]
    },
    {
      "cell_type": "markdown",
      "id": "852dee3a",
      "metadata": {},
      "source": [
        "Using help will list all available functions in the library."
      ]
    },
    {
      "cell_type": "code",
      "execution_count": 25,
      "id": "c096bf6f",
      "metadata": {},
      "outputs": [
        {
          "name": "stdout",
          "output_type": "stream",
          "text": [
            "Available functions in jcds:\n",
            "\n",
            "  - count_cols_with_all_na\n",
            "  - count_cols_with_any_na\n",
            "  - count_rows_with_all_na\n",
            "  - count_rows_with_any_na\n",
            "  - count_total_na\n",
            "  - count_unique_values\n",
            "  - create_dt_col\n",
            "  - create_dt_cols\n",
            "  - display_all_col_head\n",
            "  - dqr_cat\n",
            "  - dqr_cont\n",
            "  - get_cat_list\n",
            "  - get_cont_list\n",
            "  - list_s3_bucket\n",
            "  - list_unique_values\n",
            "  - load_csv\n",
            "  - load_parquet\n",
            "  - long_report\n",
            "  - quick_report\n",
            "  - read_s3\n",
            "  - rename_col\n",
            "  - save_csv\n",
            "  - save_parquet\n",
            "  - show_binary_list\n",
            "  - show_catvar\n",
            "  - show_convar\n",
            "  - show_dupes\n",
            "  - show_lowcardvars\n",
            "  - show_shape\n",
            "\n",
            "Use jcds.help(\"function_name\") to see its documentation.\n"
          ]
        }
      ],
      "source": [
        "jcds.help()"
      ]
    },
    {
      "cell_type": "markdown",
      "id": "e5a7801f",
      "metadata": {},
      "source": [
        "## Show `help()` for a specific module"
      ]
    },
    {
      "cell_type": "code",
      "execution_count": 26,
      "id": "92b50b62",
      "metadata": {},
      "outputs": [
        {
          "name": "stdout",
          "output_type": "stream",
          "text": [
            "Available functions in jcds:\n",
            "\n",
            "  - load_csv\n",
            "  - load_parquet\n",
            "  - read_s3\n",
            "  - save_csv\n",
            "  - save_parquet\n",
            "\n",
            "Use jcds.help(\"function_name\") to see its documentation.\n"
          ]
        }
      ],
      "source": [
        "jcds.dataio.help()"
      ]
    },
    {
      "cell_type": "code",
      "execution_count": null,
      "id": "77584570",
      "metadata": {},
      "outputs": [],
      "source": []
    }
  ],
  "metadata": {
    "kernelspec": {
      "display_name": "jcds-dev",
      "language": "python",
      "name": "python3"
    },
    "language_info": {
      "codemirror_mode": {
        "name": "ipython",
        "version": 3
      },
      "file_extension": ".py",
      "mimetype": "text/x-python",
      "name": "python",
      "nbconvert_exporter": "python",
      "pygments_lexer": "ipython3",
      "version": "3.10.16"
    }
  },
  "nbformat": 4,
  "nbformat_minor": 5
}
