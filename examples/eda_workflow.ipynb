{
  "cells": [
    {
      "cell_type": "markdown",
      "id": "ae2440e0",
      "metadata": {},
      "source": [
        "# Example EDA Workflow with the `jcds` library"
      ]
    },
    {
      "cell_type": "markdown",
      "id": "6e565548",
      "metadata": {},
      "source": [
        "Install the library using:\n",
        "    ```bash\n",
        "    pip install git+https://github.com/junclemente/jcds.git`\n",
        "    ```\n",
        "\n",
        "This can be done in the command line or within the Jupyter Notebook as shown in the next cell. "
      ]
    },
    {
      "cell_type": "code",
      "execution_count": 7,
      "id": "47a7bd5c",
      "metadata": {},
      "outputs": [
        {
          "name": "stdout",
          "output_type": "stream",
          "text": [
            "Collecting git+https://github.com/junclemente/jcds.git@reports\n",
            "  Cloning https://github.com/junclemente/jcds.git (to revision reports) to /tmp/pip-req-build-b1szn_na\n",
            "  Running command git clone --filter=blob:none --quiet https://github.com/junclemente/jcds.git /tmp/pip-req-build-b1szn_na\n",
            "  Running command git checkout -b reports --track origin/reports\n",
            "  Switched to a new branch 'reports'\n",
            "  Branch 'reports' set up to track remote branch 'reports' from 'origin'.\n",
            "  Resolved https://github.com/junclemente/jcds.git to commit 43886ed8e96ed085dc89313581c56b730e3631da\n",
            "  Installing build dependencies ... \u001b[?25ldone\n",
            "\u001b[?25h  Getting requirements to build wheel ... \u001b[?25ldone\n",
            "\u001b[?25h  Preparing metadata (pyproject.toml) ... \u001b[?25ldone\n",
            "\u001b[?25hRequirement already satisfied: pandas in /home/kajun/miniconda3/envs/jcds-dev/lib/python3.10/site-packages (from jcds==0.2.2) (2.2.3)\n",
            "Requirement already satisfied: pyarrow in /home/kajun/miniconda3/envs/jcds-dev/lib/python3.10/site-packages (from jcds==0.2.2) (19.0.1)\n",
            "Requirement already satisfied: numpy in /home/kajun/miniconda3/envs/jcds-dev/lib/python3.10/site-packages (from jcds==0.2.2) (2.2.4)\n",
            "Requirement already satisfied: matplotlib in /home/kajun/miniconda3/envs/jcds-dev/lib/python3.10/site-packages (from jcds==0.2.2) (3.10.1)\n",
            "Requirement already satisfied: seaborn in /home/kajun/miniconda3/envs/jcds-dev/lib/python3.10/site-packages (from jcds==0.2.2) (0.13.2)\n",
            "Requirement already satisfied: ipython in /home/kajun/miniconda3/envs/jcds-dev/lib/python3.10/site-packages (from jcds==0.2.2) (8.34.0)\n",
            "Requirement already satisfied: scikit-learn in /home/kajun/miniconda3/envs/jcds-dev/lib/python3.10/site-packages (from jcds==0.2.2) (1.6.1)\n",
            "Requirement already satisfied: requests in /home/kajun/miniconda3/envs/jcds-dev/lib/python3.10/site-packages (from jcds==0.2.2) (2.32.3)\n",
            "Requirement already satisfied: decorator in /home/kajun/miniconda3/envs/jcds-dev/lib/python3.10/site-packages (from ipython->jcds==0.2.2) (5.2.1)\n",
            "Requirement already satisfied: exceptiongroup in /home/kajun/miniconda3/envs/jcds-dev/lib/python3.10/site-packages (from ipython->jcds==0.2.2) (1.2.2)\n",
            "Requirement already satisfied: jedi>=0.16 in /home/kajun/miniconda3/envs/jcds-dev/lib/python3.10/site-packages (from ipython->jcds==0.2.2) (0.19.2)\n",
            "Requirement already satisfied: matplotlib-inline in /home/kajun/miniconda3/envs/jcds-dev/lib/python3.10/site-packages (from ipython->jcds==0.2.2) (0.1.7)\n",
            "Requirement already satisfied: pexpect>4.3 in /home/kajun/miniconda3/envs/jcds-dev/lib/python3.10/site-packages (from ipython->jcds==0.2.2) (4.9.0)\n",
            "Requirement already satisfied: prompt_toolkit<3.1.0,>=3.0.41 in /home/kajun/miniconda3/envs/jcds-dev/lib/python3.10/site-packages (from ipython->jcds==0.2.2) (3.0.50)\n",
            "Requirement already satisfied: pygments>=2.4.0 in /home/kajun/miniconda3/envs/jcds-dev/lib/python3.10/site-packages (from ipython->jcds==0.2.2) (2.19.1)\n",
            "Requirement already satisfied: stack_data in /home/kajun/miniconda3/envs/jcds-dev/lib/python3.10/site-packages (from ipython->jcds==0.2.2) (0.6.3)\n",
            "Requirement already satisfied: traitlets>=5.13.0 in /home/kajun/miniconda3/envs/jcds-dev/lib/python3.10/site-packages (from ipython->jcds==0.2.2) (5.14.3)\n",
            "Requirement already satisfied: typing_extensions>=4.6 in /home/kajun/miniconda3/envs/jcds-dev/lib/python3.10/site-packages (from ipython->jcds==0.2.2) (4.13.0)\n",
            "Requirement already satisfied: contourpy>=1.0.1 in /home/kajun/miniconda3/envs/jcds-dev/lib/python3.10/site-packages (from matplotlib->jcds==0.2.2) (1.3.1)\n",
            "Requirement already satisfied: cycler>=0.10 in /home/kajun/miniconda3/envs/jcds-dev/lib/python3.10/site-packages (from matplotlib->jcds==0.2.2) (0.12.1)\n",
            "Requirement already satisfied: fonttools>=4.22.0 in /home/kajun/miniconda3/envs/jcds-dev/lib/python3.10/site-packages (from matplotlib->jcds==0.2.2) (4.57.0)\n",
            "Requirement already satisfied: kiwisolver>=1.3.1 in /home/kajun/miniconda3/envs/jcds-dev/lib/python3.10/site-packages (from matplotlib->jcds==0.2.2) (1.4.7)\n",
            "Requirement already satisfied: packaging>=20.0 in /home/kajun/miniconda3/envs/jcds-dev/lib/python3.10/site-packages (from matplotlib->jcds==0.2.2) (24.2)\n",
            "Requirement already satisfied: pillow>=8 in /home/kajun/miniconda3/envs/jcds-dev/lib/python3.10/site-packages (from matplotlib->jcds==0.2.2) (11.1.0)\n",
            "Requirement already satisfied: pyparsing>=2.3.1 in /home/kajun/miniconda3/envs/jcds-dev/lib/python3.10/site-packages (from matplotlib->jcds==0.2.2) (3.2.3)\n",
            "Requirement already satisfied: python-dateutil>=2.7 in /home/kajun/miniconda3/envs/jcds-dev/lib/python3.10/site-packages (from matplotlib->jcds==0.2.2) (2.9.0.post0)\n",
            "Requirement already satisfied: pytz>=2020.1 in /home/kajun/miniconda3/envs/jcds-dev/lib/python3.10/site-packages (from pandas->jcds==0.2.2) (2024.1)\n",
            "Requirement already satisfied: tzdata>=2022.7 in /home/kajun/miniconda3/envs/jcds-dev/lib/python3.10/site-packages (from pandas->jcds==0.2.2) (2025.2)\n",
            "Requirement already satisfied: charset_normalizer<4,>=2 in /home/kajun/miniconda3/envs/jcds-dev/lib/python3.10/site-packages (from requests->jcds==0.2.2) (3.4.1)\n",
            "Requirement already satisfied: idna<4,>=2.5 in /home/kajun/miniconda3/envs/jcds-dev/lib/python3.10/site-packages (from requests->jcds==0.2.2) (3.10)\n",
            "Requirement already satisfied: urllib3<3,>=1.21.1 in /home/kajun/miniconda3/envs/jcds-dev/lib/python3.10/site-packages (from requests->jcds==0.2.2) (2.3.0)\n",
            "Requirement already satisfied: certifi>=2017.4.17 in /home/kajun/miniconda3/envs/jcds-dev/lib/python3.10/site-packages (from requests->jcds==0.2.2) (2025.1.31)\n",
            "Requirement already satisfied: scipy>=1.6.0 in /home/kajun/miniconda3/envs/jcds-dev/lib/python3.10/site-packages (from scikit-learn->jcds==0.2.2) (1.15.2)\n",
            "Requirement already satisfied: joblib>=1.2.0 in /home/kajun/miniconda3/envs/jcds-dev/lib/python3.10/site-packages (from scikit-learn->jcds==0.2.2) (1.4.2)\n",
            "Requirement already satisfied: threadpoolctl>=3.1.0 in /home/kajun/miniconda3/envs/jcds-dev/lib/python3.10/site-packages (from scikit-learn->jcds==0.2.2) (3.6.0)\n",
            "Requirement already satisfied: parso<0.9.0,>=0.8.4 in /home/kajun/miniconda3/envs/jcds-dev/lib/python3.10/site-packages (from jedi>=0.16->ipython->jcds==0.2.2) (0.8.4)\n",
            "Requirement already satisfied: ptyprocess>=0.5 in /home/kajun/miniconda3/envs/jcds-dev/lib/python3.10/site-packages (from pexpect>4.3->ipython->jcds==0.2.2) (0.7.0)\n",
            "Requirement already satisfied: wcwidth in /home/kajun/miniconda3/envs/jcds-dev/lib/python3.10/site-packages (from prompt_toolkit<3.1.0,>=3.0.41->ipython->jcds==0.2.2) (0.2.13)\n",
            "Requirement already satisfied: six>=1.5 in /home/kajun/miniconda3/envs/jcds-dev/lib/python3.10/site-packages (from python-dateutil>=2.7->matplotlib->jcds==0.2.2) (1.17.0)\n",
            "Requirement already satisfied: executing>=1.2.0 in /home/kajun/miniconda3/envs/jcds-dev/lib/python3.10/site-packages (from stack_data->ipython->jcds==0.2.2) (2.1.0)\n",
            "Requirement already satisfied: asttokens>=2.1.0 in /home/kajun/miniconda3/envs/jcds-dev/lib/python3.10/site-packages (from stack_data->ipython->jcds==0.2.2) (3.0.0)\n",
            "Requirement already satisfied: pure_eval in /home/kajun/miniconda3/envs/jcds-dev/lib/python3.10/site-packages (from stack_data->ipython->jcds==0.2.2) (0.2.3)\n"
          ]
        }
      ],
      "source": [
        "# Install jcds library with pip\n",
        "!pip install git+https://github.com/junclemente/jcds.git@reports"
      ]
    },
    {
      "cell_type": "code",
      "execution_count": 8,
      "id": "a58f7a34",
      "metadata": {},
      "outputs": [],
      "source": [
        "import pandas as pd\n",
        "import seaborn as sns"
      ]
    },
    {
      "cell_type": "code",
      "execution_count": 9,
      "id": "5e06e269",
      "metadata": {},
      "outputs": [
        {
          "data": {
            "application/vnd.microsoft.datawrangler.viewer.v0+json": {
              "columns": [
                {
                  "name": "index",
                  "rawType": "int64",
                  "type": "integer"
                },
                {
                  "name": "survived",
                  "rawType": "int64",
                  "type": "integer"
                },
                {
                  "name": "pclass",
                  "rawType": "int64",
                  "type": "integer"
                },
                {
                  "name": "sex",
                  "rawType": "object",
                  "type": "string"
                },
                {
                  "name": "age",
                  "rawType": "float64",
                  "type": "float"
                },
                {
                  "name": "sibsp",
                  "rawType": "int64",
                  "type": "integer"
                },
                {
                  "name": "parch",
                  "rawType": "int64",
                  "type": "integer"
                },
                {
                  "name": "fare",
                  "rawType": "float64",
                  "type": "float"
                },
                {
                  "name": "embarked",
                  "rawType": "object",
                  "type": "string"
                },
                {
                  "name": "class",
                  "rawType": "category",
                  "type": "unknown"
                },
                {
                  "name": "who",
                  "rawType": "object",
                  "type": "string"
                },
                {
                  "name": "adult_male",
                  "rawType": "bool",
                  "type": "boolean"
                },
                {
                  "name": "deck",
                  "rawType": "category",
                  "type": "unknown"
                },
                {
                  "name": "embark_town",
                  "rawType": "object",
                  "type": "string"
                },
                {
                  "name": "alive",
                  "rawType": "object",
                  "type": "string"
                },
                {
                  "name": "alone",
                  "rawType": "bool",
                  "type": "boolean"
                }
              ],
              "conversionMethod": "pd.DataFrame",
              "ref": "6e0d5b58-0d10-48f8-8fc7-39ccbf325fc7",
              "rows": [
                [
                  "0",
                  "0",
                  "3",
                  "male",
                  "22.0",
                  "1",
                  "0",
                  "7.25",
                  "S",
                  "Third",
                  "man",
                  "True",
                  null,
                  "Southampton",
                  "no",
                  "False"
                ],
                [
                  "1",
                  "1",
                  "1",
                  "female",
                  "38.0",
                  "1",
                  "0",
                  "71.2833",
                  "C",
                  "First",
                  "woman",
                  "False",
                  "C",
                  "Cherbourg",
                  "yes",
                  "False"
                ],
                [
                  "2",
                  "1",
                  "3",
                  "female",
                  "26.0",
                  "0",
                  "0",
                  "7.925",
                  "S",
                  "Third",
                  "woman",
                  "False",
                  null,
                  "Southampton",
                  "yes",
                  "True"
                ],
                [
                  "3",
                  "1",
                  "1",
                  "female",
                  "35.0",
                  "1",
                  "0",
                  "53.1",
                  "S",
                  "First",
                  "woman",
                  "False",
                  "C",
                  "Southampton",
                  "yes",
                  "False"
                ],
                [
                  "4",
                  "0",
                  "3",
                  "male",
                  "35.0",
                  "0",
                  "0",
                  "8.05",
                  "S",
                  "Third",
                  "man",
                  "True",
                  null,
                  "Southampton",
                  "no",
                  "True"
                ]
              ],
              "shape": {
                "columns": 15,
                "rows": 5
              }
            },
            "text/html": [
              "<div>\n",
              "<style scoped>\n",
              "    .dataframe tbody tr th:only-of-type {\n",
              "        vertical-align: middle;\n",
              "    }\n",
              "\n",
              "    .dataframe tbody tr th {\n",
              "        vertical-align: top;\n",
              "    }\n",
              "\n",
              "    .dataframe thead th {\n",
              "        text-align: right;\n",
              "    }\n",
              "</style>\n",
              "<table border=\"1\" class=\"dataframe\">\n",
              "  <thead>\n",
              "    <tr style=\"text-align: right;\">\n",
              "      <th></th>\n",
              "      <th>survived</th>\n",
              "      <th>pclass</th>\n",
              "      <th>sex</th>\n",
              "      <th>age</th>\n",
              "      <th>sibsp</th>\n",
              "      <th>parch</th>\n",
              "      <th>fare</th>\n",
              "      <th>embarked</th>\n",
              "      <th>class</th>\n",
              "      <th>who</th>\n",
              "      <th>adult_male</th>\n",
              "      <th>deck</th>\n",
              "      <th>embark_town</th>\n",
              "      <th>alive</th>\n",
              "      <th>alone</th>\n",
              "    </tr>\n",
              "  </thead>\n",
              "  <tbody>\n",
              "    <tr>\n",
              "      <th>0</th>\n",
              "      <td>0</td>\n",
              "      <td>3</td>\n",
              "      <td>male</td>\n",
              "      <td>22.0</td>\n",
              "      <td>1</td>\n",
              "      <td>0</td>\n",
              "      <td>7.2500</td>\n",
              "      <td>S</td>\n",
              "      <td>Third</td>\n",
              "      <td>man</td>\n",
              "      <td>True</td>\n",
              "      <td>NaN</td>\n",
              "      <td>Southampton</td>\n",
              "      <td>no</td>\n",
              "      <td>False</td>\n",
              "    </tr>\n",
              "    <tr>\n",
              "      <th>1</th>\n",
              "      <td>1</td>\n",
              "      <td>1</td>\n",
              "      <td>female</td>\n",
              "      <td>38.0</td>\n",
              "      <td>1</td>\n",
              "      <td>0</td>\n",
              "      <td>71.2833</td>\n",
              "      <td>C</td>\n",
              "      <td>First</td>\n",
              "      <td>woman</td>\n",
              "      <td>False</td>\n",
              "      <td>C</td>\n",
              "      <td>Cherbourg</td>\n",
              "      <td>yes</td>\n",
              "      <td>False</td>\n",
              "    </tr>\n",
              "    <tr>\n",
              "      <th>2</th>\n",
              "      <td>1</td>\n",
              "      <td>3</td>\n",
              "      <td>female</td>\n",
              "      <td>26.0</td>\n",
              "      <td>0</td>\n",
              "      <td>0</td>\n",
              "      <td>7.9250</td>\n",
              "      <td>S</td>\n",
              "      <td>Third</td>\n",
              "      <td>woman</td>\n",
              "      <td>False</td>\n",
              "      <td>NaN</td>\n",
              "      <td>Southampton</td>\n",
              "      <td>yes</td>\n",
              "      <td>True</td>\n",
              "    </tr>\n",
              "    <tr>\n",
              "      <th>3</th>\n",
              "      <td>1</td>\n",
              "      <td>1</td>\n",
              "      <td>female</td>\n",
              "      <td>35.0</td>\n",
              "      <td>1</td>\n",
              "      <td>0</td>\n",
              "      <td>53.1000</td>\n",
              "      <td>S</td>\n",
              "      <td>First</td>\n",
              "      <td>woman</td>\n",
              "      <td>False</td>\n",
              "      <td>C</td>\n",
              "      <td>Southampton</td>\n",
              "      <td>yes</td>\n",
              "      <td>False</td>\n",
              "    </tr>\n",
              "    <tr>\n",
              "      <th>4</th>\n",
              "      <td>0</td>\n",
              "      <td>3</td>\n",
              "      <td>male</td>\n",
              "      <td>35.0</td>\n",
              "      <td>0</td>\n",
              "      <td>0</td>\n",
              "      <td>8.0500</td>\n",
              "      <td>S</td>\n",
              "      <td>Third</td>\n",
              "      <td>man</td>\n",
              "      <td>True</td>\n",
              "      <td>NaN</td>\n",
              "      <td>Southampton</td>\n",
              "      <td>no</td>\n",
              "      <td>True</td>\n",
              "    </tr>\n",
              "  </tbody>\n",
              "</table>\n",
              "</div>"
            ],
            "text/plain": [
              "   survived  pclass     sex   age  sibsp  parch     fare embarked  class  \\\n",
              "0         0       3    male  22.0      1      0   7.2500        S  Third   \n",
              "1         1       1  female  38.0      1      0  71.2833        C  First   \n",
              "2         1       3  female  26.0      0      0   7.9250        S  Third   \n",
              "3         1       1  female  35.0      1      0  53.1000        S  First   \n",
              "4         0       3    male  35.0      0      0   8.0500        S  Third   \n",
              "\n",
              "     who  adult_male deck  embark_town alive  alone  \n",
              "0    man        True  NaN  Southampton    no  False  \n",
              "1  woman       False    C    Cherbourg   yes  False  \n",
              "2  woman       False  NaN  Southampton   yes   True  \n",
              "3  woman       False    C  Southampton   yes  False  \n",
              "4    man        True  NaN  Southampton    no   True  "
            ]
          },
          "execution_count": 9,
          "metadata": {},
          "output_type": "execute_result"
        }
      ],
      "source": [
        "# import sebaorn's titanic dataset\n",
        "df = sns.load_dataset(\"titanic\")\n",
        "df.head()"
      ]
    },
    {
      "cell_type": "markdown",
      "id": "f41562da",
      "metadata": {},
      "source": [
        "## Import the eda library from jcds"
      ]
    },
    {
      "cell_type": "code",
      "execution_count": 10,
      "id": "cf8eee33",
      "metadata": {},
      "outputs": [
        {
          "ename": "ImportError",
          "evalue": "cannot import name 'reports' from 'jcds' (/home/kajun/miniconda3/envs/jcds-dev/lib/python3.10/site-packages/jcds/__init__.py)",
          "output_type": "error",
          "traceback": [
            "\u001b[0;31m---------------------------------------------------------------------------\u001b[0m",
            "\u001b[0;31mImportError\u001b[0m                               Traceback (most recent call last)",
            "Cell \u001b[0;32mIn[10], line 3\u001b[0m\n\u001b[1;32m      1\u001b[0m \u001b[38;5;28;01mfrom\u001b[39;00m\u001b[38;5;250m \u001b[39m\u001b[38;5;21;01mjcds\u001b[39;00m\u001b[38;5;250m \u001b[39m\u001b[38;5;28;01mimport\u001b[39;00m eda \u001b[38;5;28;01mas\u001b[39;00m jeda\n\u001b[0;32m----> 3\u001b[0m \u001b[38;5;28;01mfrom\u001b[39;00m\u001b[38;5;250m \u001b[39m\u001b[38;5;21;01mjcds\u001b[39;00m\u001b[38;5;250m \u001b[39m\u001b[38;5;28;01mimport\u001b[39;00m reports \u001b[38;5;28;01mas\u001b[39;00m jrep\n",
            "\u001b[0;31mImportError\u001b[0m: cannot import name 'reports' from 'jcds' (/home/kajun/miniconda3/envs/jcds-dev/lib/python3.10/site-packages/jcds/__init__.py)"
          ]
        }
      ],
      "source": [
        "from jcds import eda as jeda\n",
        "\n",
        "from jcds import reports as jrep"
      ]
    },
    {
      "cell_type": "code",
      "execution_count": 6,
      "id": "476bf443",
      "metadata": {},
      "outputs": [
        {
          "ename": "NameError",
          "evalue": "name 'jrep' is not defined",
          "output_type": "error",
          "traceback": [
            "\u001b[0;31m---------------------------------------------------------------------------\u001b[0m",
            "\u001b[0;31mNameError\u001b[0m                                 Traceback (most recent call last)",
            "Cell \u001b[0;32mIn[6], line 1\u001b[0m\n\u001b[0;32m----> 1\u001b[0m \u001b[43mjrep\u001b[49m\u001b[38;5;241m.\u001b[39mdata_info(df)\n",
            "\u001b[0;31mNameError\u001b[0m: name 'jrep' is not defined"
          ]
        }
      ],
      "source": [
        "jrep.data_info(df)"
      ]
    },
    {
      "cell_type": "code",
      "execution_count": 5,
      "id": "d49a7a52",
      "metadata": {},
      "outputs": [
        {
          "data": {
            "text/plain": [
              "(891, 15)"
            ]
          },
          "execution_count": 5,
          "metadata": {},
          "output_type": "execute_result"
        }
      ],
      "source": [
        "jeda.show_shape(df)"
      ]
    },
    {
      "cell_type": "code",
      "execution_count": 6,
      "id": "b5b26e00",
      "metadata": {},
      "outputs": [
        {
          "data": {
            "text/plain": [
              "np.int64(107)"
            ]
          },
          "execution_count": 6,
          "metadata": {},
          "output_type": "execute_result"
        }
      ],
      "source": [
        "jeda.show_dupes(df)"
      ]
    },
    {
      "cell_type": "code",
      "execution_count": 8,
      "id": "f67f76a7",
      "metadata": {},
      "outputs": [
        {
          "data": {
            "text/plain": [
              "['sex', 'embarked', 'class', 'who', 'deck', 'embark_town', 'alive']"
            ]
          },
          "execution_count": 8,
          "metadata": {},
          "output_type": "execute_result"
        }
      ],
      "source": [
        "jeda.show_catvar(df)"
      ]
    },
    {
      "cell_type": "code",
      "execution_count": 9,
      "id": "05ca99b5",
      "metadata": {},
      "outputs": [
        {
          "data": {
            "text/plain": [
              "['survived', 'pclass', 'age', 'sibsp', 'parch', 'fare', 'adult_male', 'alone']"
            ]
          },
          "execution_count": 9,
          "metadata": {},
          "output_type": "execute_result"
        }
      ],
      "source": [
        "jeda.show_convar(df)"
      ]
    },
    {
      "cell_type": "code",
      "execution_count": 10,
      "id": "70172ed8",
      "metadata": {},
      "outputs": [
        {
          "data": {
            "text/plain": [
              "{'binary_columns': ['survived', 'sex', 'adult_male', 'alive', 'alone'],\n",
              " 'binary_with_nan': []}"
            ]
          },
          "execution_count": 10,
          "metadata": {},
          "output_type": "execute_result"
        }
      ],
      "source": [
        "jeda.show_binary_list(df)"
      ]
    },
    {
      "cell_type": "code",
      "execution_count": 11,
      "id": "4fe902c1",
      "metadata": {},
      "outputs": [
        {
          "name": "stdout",
          "output_type": "stream",
          "text": [
            "\u001b[93m\n",
            "============================================================\n",
            "                  ⚠️  DEPRECATION WARNING                   \n",
            "------------------------------------------------------------\n",
            "`quick_report()` is deprecated and will be removed in v0.3.0. This will be replaced with a new function.\n",
            "============================================================\n",
            "\u001b[0m\n",
            "============================================\n",
            "Quick Report - info(memory_usage='deep')\n",
            "Total cols: 15\n",
            "Rows missing all values: 0 (0.0%)\n",
            "Total Rows: 891\n",
            "Cols with missing values: 4 (26.67%)\n",
            "Total missing values in dataset: 869\n",
            "============================================\n"
          ]
        },
        {
          "name": "stderr",
          "output_type": "stream",
          "text": [
            "/tmp/ipykernel_26136/572483181.py:1: DeprecationWarning: `quick_report()` is deprecated and will be removed in v0.3.0. This will be replaced with a new function.\n",
            "  jeda.quick_report(df)\n"
          ]
        }
      ],
      "source": [
        "jeda.quick_report(df)"
      ]
    },
    {
      "cell_type": "code",
      "execution_count": 12,
      "id": "356e1c41",
      "metadata": {},
      "outputs": [
        {
          "name": "stdout",
          "output_type": "stream",
          "text": [
            "\u001b[93m\n",
            "============================================================\n",
            "                  ⚠️  DEPRECATION WARNING                   \n",
            "------------------------------------------------------------\n",
            "`long_report()` is deprecated and will be removed in v0.3.0. This will be replaced with a new function.\n",
            "============================================================\n",
            "\u001b[0m\n",
            "============================================\n",
            "Quick Report - info(memory_usage='deep')\n",
            "Total cols: 15\n",
            "Rows missing all values: 0 (0.0%)\n",
            "Total Rows: 891\n",
            "Cols with missing values: 4 (26.67%)\n",
            "Total missing values in dataset: 869\n",
            "============================================\n",
            "Categorical features: 7\n",
            "- sex: 2 unique values\n",
            "- embarked: 4 unique values\n",
            "- class: 3 unique values\n",
            "- who: 3 unique values\n",
            "- deck: 8 unique values\n",
            "- embark_town: 4 unique values\n",
            "- alive: 2 unique values\n",
            "============================================\n",
            "Continuous features: 8\n",
            "- survived: 2 unique values\n",
            "- pclass: 3 unique values\n",
            "- age: 89 unique values\n",
            "- sibsp: 7 unique values\n",
            "- parch: 7 unique values\n",
            "- fare: 248 unique values\n",
            "- adult_male: 2 unique values\n",
            "- alone: 2 unique values\n"
          ]
        },
        {
          "name": "stderr",
          "output_type": "stream",
          "text": [
            "/tmp/ipykernel_26136/777615861.py:1: DeprecationWarning: `long_report()` is deprecated and will be removed in v0.3.0. This will be replaced with a new function.\n",
            "  jeda.long_report(df)\n"
          ]
        }
      ],
      "source": [
        "jeda.long_report(df)"
      ]
    },
    {
      "cell_type": "code",
      "execution_count": null,
      "id": "a099589d",
      "metadata": {},
      "outputs": [],
      "source": []
    }
  ],
  "metadata": {
    "kernelspec": {
      "display_name": "jcds-dev",
      "language": "python",
      "name": "python3"
    },
    "language_info": {
      "codemirror_mode": {
        "name": "ipython",
        "version": 3
      },
      "file_extension": ".py",
      "mimetype": "text/x-python",
      "name": "python",
      "nbconvert_exporter": "python",
      "pygments_lexer": "ipython3",
      "version": "3.10.16"
    }
  },
  "nbformat": 4,
  "nbformat_minor": 5
}
