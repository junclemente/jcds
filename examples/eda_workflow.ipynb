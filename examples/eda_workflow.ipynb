{
  "cells": [
    {
      "cell_type": "markdown",
      "id": "ae2440e0",
      "metadata": {},
      "source": [
        "# Example EDA Workflow with the `jcds` library"
      ]
    },
    {
      "cell_type": "markdown",
      "id": "6e565548",
      "metadata": {},
      "source": [
        "Install the library using:\n",
        "    ```bash\n",
        "    pip install git+https://github.com/junclemente/jcds.git`\n",
        "    ```\n",
        "\n",
        "This can be done in the command line or within the Jupyter Notebook as shown in the next cell. "
      ]
    },
    {
      "cell_type": "markdown",
      "id": "1492a7bf",
      "metadata": {},
      "source": [
        "### Install the `jcds` library directly from Github using `pip`: \n",
        "\n",
        "- From a command line:  \n",
        "    ```bash\n",
        "    pip install git+https://github.com/junclemente/jcds.git`\n",
        "    ```  \n",
        "    \n",
        "- From a notebook cell:  \n",
        "    ```python\n",
        "    !pip install git+https://github.com/junclemente/jcds.git\n",
        "    ```  "
      ]
    },
    {
      "cell_type": "code",
      "execution_count": 19,
      "id": "a58f7a34",
      "metadata": {},
      "outputs": [],
      "source": [
        "# import standard libraries\n",
        "import pandas as pd\n",
        "import seaborn as sns"
      ]
    },
    {
      "cell_type": "code",
      "execution_count": 12,
      "id": "5e06e269",
      "metadata": {},
      "outputs": [
        {
          "data": {
            "application/vnd.microsoft.datawrangler.viewer.v0+json": {
              "columns": [
                {
                  "name": "index",
                  "rawType": "int64",
                  "type": "integer"
                },
                {
                  "name": "survived",
                  "rawType": "int64",
                  "type": "integer"
                },
                {
                  "name": "pclass",
                  "rawType": "int64",
                  "type": "integer"
                },
                {
                  "name": "sex",
                  "rawType": "object",
                  "type": "string"
                },
                {
                  "name": "age",
                  "rawType": "float64",
                  "type": "float"
                },
                {
                  "name": "sibsp",
                  "rawType": "int64",
                  "type": "integer"
                },
                {
                  "name": "parch",
                  "rawType": "int64",
                  "type": "integer"
                },
                {
                  "name": "fare",
                  "rawType": "float64",
                  "type": "float"
                },
                {
                  "name": "embarked",
                  "rawType": "object",
                  "type": "string"
                },
                {
                  "name": "class",
                  "rawType": "category",
                  "type": "unknown"
                },
                {
                  "name": "who",
                  "rawType": "object",
                  "type": "string"
                },
                {
                  "name": "adult_male",
                  "rawType": "bool",
                  "type": "boolean"
                },
                {
                  "name": "deck",
                  "rawType": "category",
                  "type": "unknown"
                },
                {
                  "name": "embark_town",
                  "rawType": "object",
                  "type": "string"
                },
                {
                  "name": "alive",
                  "rawType": "object",
                  "type": "string"
                },
                {
                  "name": "alone",
                  "rawType": "bool",
                  "type": "boolean"
                }
              ],
              "conversionMethod": "pd.DataFrame",
              "ref": "f7f29b25-7c24-4826-9be6-9f0cd2c4ba38",
              "rows": [
                [
                  "0",
                  "0",
                  "3",
                  "male",
                  "22.0",
                  "1",
                  "0",
                  "7.25",
                  "S",
                  "Third",
                  "man",
                  "True",
                  null,
                  "Southampton",
                  "no",
                  "False"
                ],
                [
                  "1",
                  "1",
                  "1",
                  "female",
                  "38.0",
                  "1",
                  "0",
                  "71.2833",
                  "C",
                  "First",
                  "woman",
                  "False",
                  "C",
                  "Cherbourg",
                  "yes",
                  "False"
                ],
                [
                  "2",
                  "1",
                  "3",
                  "female",
                  "26.0",
                  "0",
                  "0",
                  "7.925",
                  "S",
                  "Third",
                  "woman",
                  "False",
                  null,
                  "Southampton",
                  "yes",
                  "True"
                ],
                [
                  "3",
                  "1",
                  "1",
                  "female",
                  "35.0",
                  "1",
                  "0",
                  "53.1",
                  "S",
                  "First",
                  "woman",
                  "False",
                  "C",
                  "Southampton",
                  "yes",
                  "False"
                ],
                [
                  "4",
                  "0",
                  "3",
                  "male",
                  "35.0",
                  "0",
                  "0",
                  "8.05",
                  "S",
                  "Third",
                  "man",
                  "True",
                  null,
                  "Southampton",
                  "no",
                  "True"
                ]
              ],
              "shape": {
                "columns": 15,
                "rows": 5
              }
            },
            "text/html": [
              "<div>\n",
              "<style scoped>\n",
              "    .dataframe tbody tr th:only-of-type {\n",
              "        vertical-align: middle;\n",
              "    }\n",
              "\n",
              "    .dataframe tbody tr th {\n",
              "        vertical-align: top;\n",
              "    }\n",
              "\n",
              "    .dataframe thead th {\n",
              "        text-align: right;\n",
              "    }\n",
              "</style>\n",
              "<table border=\"1\" class=\"dataframe\">\n",
              "  <thead>\n",
              "    <tr style=\"text-align: right;\">\n",
              "      <th></th>\n",
              "      <th>survived</th>\n",
              "      <th>pclass</th>\n",
              "      <th>sex</th>\n",
              "      <th>age</th>\n",
              "      <th>sibsp</th>\n",
              "      <th>parch</th>\n",
              "      <th>fare</th>\n",
              "      <th>embarked</th>\n",
              "      <th>class</th>\n",
              "      <th>who</th>\n",
              "      <th>adult_male</th>\n",
              "      <th>deck</th>\n",
              "      <th>embark_town</th>\n",
              "      <th>alive</th>\n",
              "      <th>alone</th>\n",
              "    </tr>\n",
              "  </thead>\n",
              "  <tbody>\n",
              "    <tr>\n",
              "      <th>0</th>\n",
              "      <td>0</td>\n",
              "      <td>3</td>\n",
              "      <td>male</td>\n",
              "      <td>22.0</td>\n",
              "      <td>1</td>\n",
              "      <td>0</td>\n",
              "      <td>7.2500</td>\n",
              "      <td>S</td>\n",
              "      <td>Third</td>\n",
              "      <td>man</td>\n",
              "      <td>True</td>\n",
              "      <td>NaN</td>\n",
              "      <td>Southampton</td>\n",
              "      <td>no</td>\n",
              "      <td>False</td>\n",
              "    </tr>\n",
              "    <tr>\n",
              "      <th>1</th>\n",
              "      <td>1</td>\n",
              "      <td>1</td>\n",
              "      <td>female</td>\n",
              "      <td>38.0</td>\n",
              "      <td>1</td>\n",
              "      <td>0</td>\n",
              "      <td>71.2833</td>\n",
              "      <td>C</td>\n",
              "      <td>First</td>\n",
              "      <td>woman</td>\n",
              "      <td>False</td>\n",
              "      <td>C</td>\n",
              "      <td>Cherbourg</td>\n",
              "      <td>yes</td>\n",
              "      <td>False</td>\n",
              "    </tr>\n",
              "    <tr>\n",
              "      <th>2</th>\n",
              "      <td>1</td>\n",
              "      <td>3</td>\n",
              "      <td>female</td>\n",
              "      <td>26.0</td>\n",
              "      <td>0</td>\n",
              "      <td>0</td>\n",
              "      <td>7.9250</td>\n",
              "      <td>S</td>\n",
              "      <td>Third</td>\n",
              "      <td>woman</td>\n",
              "      <td>False</td>\n",
              "      <td>NaN</td>\n",
              "      <td>Southampton</td>\n",
              "      <td>yes</td>\n",
              "      <td>True</td>\n",
              "    </tr>\n",
              "    <tr>\n",
              "      <th>3</th>\n",
              "      <td>1</td>\n",
              "      <td>1</td>\n",
              "      <td>female</td>\n",
              "      <td>35.0</td>\n",
              "      <td>1</td>\n",
              "      <td>0</td>\n",
              "      <td>53.1000</td>\n",
              "      <td>S</td>\n",
              "      <td>First</td>\n",
              "      <td>woman</td>\n",
              "      <td>False</td>\n",
              "      <td>C</td>\n",
              "      <td>Southampton</td>\n",
              "      <td>yes</td>\n",
              "      <td>False</td>\n",
              "    </tr>\n",
              "    <tr>\n",
              "      <th>4</th>\n",
              "      <td>0</td>\n",
              "      <td>3</td>\n",
              "      <td>male</td>\n",
              "      <td>35.0</td>\n",
              "      <td>0</td>\n",
              "      <td>0</td>\n",
              "      <td>8.0500</td>\n",
              "      <td>S</td>\n",
              "      <td>Third</td>\n",
              "      <td>man</td>\n",
              "      <td>True</td>\n",
              "      <td>NaN</td>\n",
              "      <td>Southampton</td>\n",
              "      <td>no</td>\n",
              "      <td>True</td>\n",
              "    </tr>\n",
              "  </tbody>\n",
              "</table>\n",
              "</div>"
            ],
            "text/plain": [
              "   survived  pclass     sex   age  ...  deck  embark_town  alive  alone\n",
              "0         0       3    male  22.0  ...   NaN  Southampton     no  False\n",
              "1         1       1  female  38.0  ...     C    Cherbourg    yes  False\n",
              "2         1       3  female  26.0  ...   NaN  Southampton    yes   True\n",
              "3         1       1  female  35.0  ...     C  Southampton    yes  False\n",
              "4         0       3    male  35.0  ...   NaN  Southampton     no   True\n",
              "\n",
              "[5 rows x 15 columns]"
            ]
          },
          "execution_count": 12,
          "metadata": {},
          "output_type": "execute_result"
        }
      ],
      "source": [
        "# import sebaorn's titanic dataset\n",
        "df = sns.load_dataset(\"titanic\")\n",
        "df.head()"
      ]
    },
    {
      "cell_type": "markdown",
      "id": "cb965d8d",
      "metadata": {},
      "source": [
        "## Import the `reports` library from jcds"
      ]
    },
    {
      "cell_type": "code",
      "execution_count": 13,
      "id": "050a3cf3",
      "metadata": {},
      "outputs": [],
      "source": [
        "from jcds import reports as jrep"
      ]
    },
    {
      "cell_type": "code",
      "execution_count": 14,
      "id": "5861c2de",
      "metadata": {},
      "outputs": [
        {
          "name": "stdout",
          "output_type": "stream",
          "text": [
            "\n",
            "SHAPE:\n",
            "There are 891 rows and 15 columns (0.31 MB).\n",
            "\n",
            "DUPLICATES:\n",
            "There are 107 duplicated rows.\n",
            "\n",
            "COLUMNS/VARIABLES:\n",
            "Column dType Summary:\n",
            " * object: 5\n",
            " * int: 4\n",
            " * float: 2\n",
            " * bool: 2\n",
            " * category: 2\n",
            "There are 8 numerical (int/float/bool) variables.\n",
            "There are 7 categorical (nominal/ordinal) variables.\n",
            "\n",
            "DATETIME COLUMNS:\n",
            "There are 0 datetime variables and 0 possible datetime variables.\n",
            "\n",
            "OTHER COLUMN/VARIABLE INFO:\n",
            "ID Like Columns: 0\n",
            "Mixed dType Columns: 3\n"
          ]
        }
      ],
      "source": [
        "jrep.data_info(df)"
      ]
    },
    {
      "cell_type": "code",
      "execution_count": 15,
      "id": "b6f524ce",
      "metadata": {},
      "outputs": [
        {
          "name": "stdout",
          "output_type": "stream",
          "text": [
            "\n",
            "SHAPE:\n",
            "There are 891 rows and 15 columns (0.31 MB).\n",
            "\n",
            "DUPLICATES:\n",
            "There are 107 duplicated rows.\n",
            "\n",
            "COLUMNS/VARIABLES:\n",
            "Column dType Summary:\n",
            " * object: 5\n",
            " * int: 4\n",
            " * float: 2\n",
            " * bool: 2\n",
            " * category: 2\n",
            "There are 8 numerical (int/float/bool) variables.\n",
            "\tColumns: ['survived', 'pclass', 'age', 'sibsp', 'parch', 'fare', 'adult_male', 'alone']\n",
            "There are 7 categorical (nominal/ordinal) variables.\n",
            "\tColumns: ['sex', 'embarked', 'class', 'who', 'deck', 'embark_town', 'alive']\n",
            "\n",
            "DATETIME COLUMNS:\n",
            "There are 0 datetime variables and 0 possible datetime variables.\n",
            "\n",
            "OTHER COLUMN/VARIABLE INFO:\n",
            "ID Like Columns: 0\n",
            "Mixed dType Columns: 3\n",
            "\tColumns: ['embarked', 'deck', 'embark_town']\n"
          ]
        }
      ],
      "source": [
        "jrep.data_info(df, show_columns=True)"
      ]
    },
    {
      "cell_type": "markdown",
      "id": "f41562da",
      "metadata": {},
      "source": [
        "## Import the eda library from jcds"
      ]
    },
    {
      "cell_type": "code",
      "execution_count": 16,
      "id": "cf8eee33",
      "metadata": {},
      "outputs": [],
      "source": [
        "from jcds import reports as jrep"
      ]
    },
    {
      "cell_type": "code",
      "execution_count": 17,
      "id": "d49a7a52",
      "metadata": {},
      "outputs": [
        {
          "ename": "NameError",
          "evalue": "name 'jeda' is not defined",
          "output_type": "error",
          "traceback": [
            "\u001b[0;31m---------------------------------------------------------------------------\u001b[0m",
            "\u001b[0;31mNameError\u001b[0m                                 Traceback (most recent call last)",
            "Cell \u001b[0;32mIn[17], line 1\u001b[0m\n\u001b[0;32m----> 1\u001b[0m \u001b[43mjeda\u001b[49m\u001b[38;5;241m.\u001b[39mshow_shape(df)\n",
            "\u001b[0;31mNameError\u001b[0m: name 'jeda' is not defined"
          ]
        }
      ],
      "source": [
        "jeda.show_shape(df)"
      ]
    },
    {
      "cell_type": "code",
      "execution_count": null,
      "id": "b5b26e00",
      "metadata": {},
      "outputs": [
        {
          "data": {
            "text/plain": [
              "np.int64(107)"
            ]
          },
          "execution_count": 8,
          "metadata": {},
          "output_type": "execute_result"
        }
      ],
      "source": [
        "jeda.show_dupes(df)"
      ]
    },
    {
      "cell_type": "code",
      "execution_count": null,
      "id": "f67f76a7",
      "metadata": {},
      "outputs": [
        {
          "data": {
            "text/plain": [
              "['sex', 'embarked', 'class', 'who', 'deck', 'embark_town', 'alive']"
            ]
          },
          "execution_count": 9,
          "metadata": {},
          "output_type": "execute_result"
        }
      ],
      "source": [
        "jeda.show_catvar(df)"
      ]
    },
    {
      "cell_type": "code",
      "execution_count": null,
      "id": "05ca99b5",
      "metadata": {},
      "outputs": [
        {
          "data": {
            "text/plain": [
              "['survived', 'pclass', 'age', 'sibsp', 'parch', 'fare', 'adult_male', 'alone']"
            ]
          },
          "execution_count": 10,
          "metadata": {},
          "output_type": "execute_result"
        }
      ],
      "source": [
        "jeda.show_convar(df)"
      ]
    },
    {
      "cell_type": "code",
      "execution_count": null,
      "id": "70172ed8",
      "metadata": {},
      "outputs": [
        {
          "data": {
            "text/plain": [
              "{'binary_columns': ['survived', 'sex', 'adult_male', 'alive', 'alone'],\n",
              " 'binary_with_nan': []}"
            ]
          },
          "execution_count": 11,
          "metadata": {},
          "output_type": "execute_result"
        }
      ],
      "source": [
        "jeda.show_binary_list(df)"
      ]
    },
    {
      "cell_type": "code",
      "execution_count": null,
      "id": "4fe902c1",
      "metadata": {},
      "outputs": [
        {
          "name": "stdout",
          "output_type": "stream",
          "text": [
            "\u001b[93m\n",
            "============================================================\n",
            "                  ⚠️  DEPRECATION WARNING                   \n",
            "------------------------------------------------------------\n",
            "`quick_report()` is deprecated and will be removed in v0.3.0. This will be replaced with a new function.\n",
            "============================================================\n",
            "\u001b[0m\n",
            "============================================\n",
            "Quick Report - info(memory_usage='deep')\n",
            "Total cols: 15\n",
            "Rows missing all values: 0 (0.0%)\n",
            "Total Rows: 891\n",
            "Cols with missing values: 4 (26.67%)\n",
            "Total missing values in dataset: 869\n",
            "============================================\n"
          ]
        },
        {
          "name": "stderr",
          "output_type": "stream",
          "text": [
            "/tmp/ipykernel_86520/572483181.py:1: DeprecationWarning: `quick_report()` is deprecated and will be removed in v0.3.0. This will be replaced with a new function.\n",
            "  jeda.quick_report(df)\n"
          ]
        }
      ],
      "source": [
        "jeda.quick_report(df)"
      ]
    },
    {
      "cell_type": "code",
      "execution_count": null,
      "id": "356e1c41",
      "metadata": {},
      "outputs": [
        {
          "name": "stdout",
          "output_type": "stream",
          "text": [
            "\u001b[93m\n",
            "============================================================\n",
            "                  ⚠️  DEPRECATION WARNING                   \n",
            "------------------------------------------------------------\n",
            "`long_report()` is deprecated and will be removed in v0.3.0. This will be replaced with a new function.\n",
            "============================================================\n",
            "\u001b[0m\n",
            "============================================\n",
            "Quick Report - info(memory_usage='deep')\n",
            "Total cols: 15\n",
            "Rows missing all values: 0 (0.0%)\n",
            "Total Rows: 891\n",
            "Cols with missing values: 4 (26.67%)\n",
            "Total missing values in dataset: 869\n",
            "============================================\n",
            "Categorical features: 7\n",
            "- sex: 2 unique values\n",
            "- embarked: 4 unique values\n",
            "- class: 3 unique values\n",
            "- who: 3 unique values\n",
            "- deck: 8 unique values\n",
            "- embark_town: 4 unique values\n",
            "- alive: 2 unique values\n",
            "============================================\n",
            "Continuous features: 8\n",
            "- survived: 2 unique values\n",
            "- pclass: 3 unique values\n",
            "- age: 89 unique values\n",
            "- sibsp: 7 unique values\n",
            "- parch: 7 unique values\n",
            "- fare: 248 unique values\n",
            "- adult_male: 2 unique values\n",
            "- alone: 2 unique values\n"
          ]
        },
        {
          "name": "stderr",
          "output_type": "stream",
          "text": [
            "/tmp/ipykernel_86520/777615861.py:1: DeprecationWarning: `long_report()` is deprecated and will be removed in v0.3.0. This will be replaced with a new function.\n",
            "  jeda.long_report(df)\n"
          ]
        }
      ],
      "source": [
        "jeda.long_report(df)"
      ]
    },
    {
      "cell_type": "code",
      "execution_count": null,
      "id": "a099589d",
      "metadata": {},
      "outputs": [],
      "source": []
    }
  ],
  "metadata": {
    "kernelspec": {
      "display_name": "jcds-dev",
      "language": "python",
      "name": "python3"
    },
    "language_info": {
      "codemirror_mode": {
        "name": "ipython",
        "version": 3
      },
      "file_extension": ".py",
      "mimetype": "text/x-python",
      "name": "python",
      "nbconvert_exporter": "python",
      "pygments_lexer": "ipython3",
      "version": "3.10.16"
    }
  },
  "nbformat": 4,
  "nbformat_minor": 5
}
